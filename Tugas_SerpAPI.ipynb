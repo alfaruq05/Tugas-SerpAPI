{
  "nbformat": 4,
  "nbformat_minor": 0,
  "metadata": {
    "colab": {
      "provenance": [],
      "authorship_tag": "ABX9TyMryrtZbc/lY1eYVpjzuqSB"
    },
    "kernelspec": {
      "name": "python3",
      "display_name": "Python 3"
    },
    "language_info": {
      "name": "python"
    }
  },
  "cells": [
    {
      "cell_type": "markdown",
      "source": [
        "# ***Proses instalasi SerpAPI pada module***"
      ],
      "metadata": {
        "id": "QFkLhs93gGp-"
      }
    },
    {
      "cell_type": "code",
      "execution_count": null,
      "metadata": {
        "id": "U2DjEloqf6ob"
      },
      "outputs": [],
      "source": [
        "pip install google-search-results"
      ]
    },
    {
      "cell_type": "markdown",
      "source": [
        "# ***Menggunakan SerpAPI dengan Google Search Untuk Mencari Data ID Restoran di Kota Yogyakarta***"
      ],
      "metadata": {
        "id": "pfZjnPdIg8HU"
      }
    },
    {
      "cell_type": "code",
      "source": [
        "from serpapi import GoogleSearch\n",
        "\n",
        "params = {\n",
        "  \"api_key\": \"1d95a6cbd844ff01c843ece1c01eb0620772cc4540c8b681ee6875854564cb75\",\n",
        "  \"device\": \"desktop\",\n",
        "  \"engine\": \"google_maps\",\n",
        "  \"type\": \"search\",\n",
        "  \"google_domain\": \"google.com\",\n",
        "  \"q\": \"restaurant\",\n",
        "  \"hl\": \"id\",\n",
        "  \"ll\": \"@-7.803164,110.3398254,13z\"\n",
        "}\n",
        "\n",
        "search = GoogleSearch(params)\n",
        "results = search.get_dict()\n",
        "local_results = results[\"local_results\"]\n",
        "local_results"
      ],
      "metadata": {
        "colab": {
          "base_uri": "https://localhost:8080/"
        },
        "id": "1-Amo2w-hLpJ",
        "outputId": "4bdccbbc-a571-46a2-a82e-37616fddde99"
      },
      "execution_count": null,
      "outputs": [
        {
          "output_type": "stream",
          "name": "stdout",
          "text": [
            "https://serpapi.com/search\n"
          ]
        },
        {
          "output_type": "execute_result",
          "data": {
            "text/plain": [
              "[{'position': 1,\n",
              "  'title': 'The Tannoor Restaurant',\n",
              "  'place_id': 'ChIJwcsJHPZXei4R4kF5_cBWais',\n",
              "  'data_id': '0x2e7a57f61c09cbc1:0x2b6a56c0fd7941e2',\n",
              "  'data_cid': '3128408278048522722',\n",
              "  'reviews_link': 'https://serpapi.com/search.json?data_id=0x2e7a57f61c09cbc1%3A0x2b6a56c0fd7941e2&engine=google_maps_reviews&hl=id',\n",
              "  'photos_link': 'https://serpapi.com/search.json?data_id=0x2e7a57f61c09cbc1%3A0x2b6a56c0fd7941e2&engine=google_maps_photos&hl=id',\n",
              "  'gps_coordinates': {'latitude': -7.8198779, 'longitude': 110.3665381},\n",
              "  'place_id_search': 'https://serpapi.com/search.json?data=%214m5%213m4%211s0x2e7a57f61c09cbc1%3A0x2b6a56c0fd7941e2%218m2%213d-7.8198779%214d110.3665381&engine=google_maps&google_domain=google.com&hl=id&type=place',\n",
              "  'rating': 4.7,\n",
              "  'reviews': 33,\n",
              "  'type': 'Restoran Afganistan',\n",
              "  'address': 'Jl. Sartono No.827, Mantrijeron, Yogyakarta City, Special Region of Yogyakarta 55143, Indonesia',\n",
              "  'phone': '+62 813-9394-2275',\n",
              "  'website': 'https://instagram.com/thetannoor',\n",
              "  'service_options': {'makan_di_tempat': True,\n",
              "   'bawa_pulang': True,\n",
              "   'pesan_antar': True},\n",
              "  'thumbnail': 'https://lh5.googleusercontent.com/p/AF1QipPshbB3O0HskNKxJyGiHkRXwJguebi6F7Ub1X4M=w80-h142-k-no'},\n",
              " {'position': 2,\n",
              "  'title': 'Mediterranea Restaurant by Kamil',\n",
              "  'place_id': 'ChIJUQyDGr1Xei4RO5dXFv3bepE',\n",
              "  'data_id': '0x2e7a57bd1a830c51:0x917adbfd1657973b',\n",
              "  'data_cid': '10482932962706298683',\n",
              "  'reviews_link': 'https://serpapi.com/search.json?data_id=0x2e7a57bd1a830c51%3A0x917adbfd1657973b&engine=google_maps_reviews&hl=id',\n",
              "  'photos_link': 'https://serpapi.com/search.json?data_id=0x2e7a57bd1a830c51%3A0x917adbfd1657973b&engine=google_maps_photos&hl=id',\n",
              "  'gps_coordinates': {'latitude': -7.818566, 'longitude': 110.36452759999999},\n",
              "  'place_id_search': 'https://serpapi.com/search.json?data=%214m5%213m4%211s0x2e7a57bd1a830c51%3A0x917adbfd1657973b%218m2%213d-7.818566%214d110.36452759999999&engine=google_maps&google_domain=google.com&hl=id&type=place',\n",
              "  'rating': 4.7,\n",
              "  'reviews': 6746,\n",
              "  'price': '$$',\n",
              "  'type': 'Restoran Eropa',\n",
              "  'address': 'Jl. Tirtodipuran No.24A, Mantrijeron, Kec. Mantrijeron, Kota Yogyakarta, Daerah Istimewa Yogyakarta 55143, Indonesia',\n",
              "  'open_state': 'Buka ⋅ Tutup pukul 23.00',\n",
              "  'hours': 'Buka ⋅ Tutup pukul 23.00',\n",
              "  'operating_hours': {'senin': '08.00–23.00',\n",
              "   'selasa': '08.00–23.00',\n",
              "   'rabu': '08.00–23.00',\n",
              "   'kamis': '08.00–23.00',\n",
              "   'jumat': '08.00–23.00',\n",
              "   'sabtu': '08.00–23.00',\n",
              "   'minggu': '08.00–23.00'},\n",
              "  'phone': '+62 274 371052',\n",
              "  'website': 'http://www.mrbykamil.com/',\n",
              "  'description': 'Restoran bergaya kontemporer. Kafe dengan interior yang minimalis dan menggunakan kayu, menyajikan menu Prancis dan Mediterania.',\n",
              "  'service_options': {'makan_di_tempat': True,\n",
              "   'ambil_di_tepi_jalan': True,\n",
              "   'antar_tanpa_bertemu': True},\n",
              "  'thumbnail': 'https://lh5.googleusercontent.com/p/AF1QipPgRzlcQmSFkmswI4xsW1R1HKECDoXV3DVRx4u2=w138-h92-k-no'},\n",
              " {'position': 3,\n",
              "  'title': 'Sri Manganti Restaurant',\n",
              "  'place_id': 'ChIJZTbRD6RZei4RqnOjQmib6pk',\n",
              "  'data_id': '0x2e7a59a40fd13665:0x99ea9b6842a373aa',\n",
              "  'data_cid': '11090847904450180010',\n",
              "  'reviews_link': 'https://serpapi.com/search.json?data_id=0x2e7a59a40fd13665%3A0x99ea9b6842a373aa&engine=google_maps_reviews&hl=id',\n",
              "  'photos_link': 'https://serpapi.com/search.json?data_id=0x2e7a59a40fd13665%3A0x99ea9b6842a373aa&engine=google_maps_photos&hl=id',\n",
              "  'gps_coordinates': {'latitude': -7.7593347999999995,\n",
              "   'longitude': 110.39569809999999},\n",
              "  'place_id_search': 'https://serpapi.com/search.json?data=%214m5%213m4%211s0x2e7a59a40fd13665%3A0x99ea9b6842a373aa%218m2%213d-7.7593347999999995%214d110.39569809999999&engine=google_maps&google_domain=google.com&hl=id&type=place',\n",
              "  'rating': 4.6,\n",
              "  'reviews': 14,\n",
              "  'unclaimed_listing': True,\n",
              "  'type': 'Restoran',\n",
              "  'address': 'No.9, Gejayan, Jl. Affandi, Kaliwaru, Condongcatur, Depok, Sleman Regency, Special Region of Yogyakarta 55281, Indonesia',\n",
              "  'open_state': 'Buka ⋅ Tutup pukul 23.00',\n",
              "  'hours': 'Buka ⋅ Tutup pukul 23.00',\n",
              "  'operating_hours': {'senin': '06.00–23.00',\n",
              "   'selasa': '06.00–23.00',\n",
              "   'rabu': '06.00–23.00',\n",
              "   'kamis': '06.00–23.00',\n",
              "   'jumat': '06.00–23.00',\n",
              "   'sabtu': '06.00–23.00',\n",
              "   'minggu': '06.00–23.00'},\n",
              "  'phone': '+62 274 5012200',\n",
              "  'service_options': {'makan_di_tempat': True, 'bawa_pulang': True},\n",
              "  'thumbnail': 'https://lh5.googleusercontent.com/p/AF1QipNAGEtQQANGwXYVeWjZtGihwATt_0h5Uef1P1KG=w167-h92-k-no'},\n",
              " {'position': 4,\n",
              "  'title': 'Legian Garden Restaurant',\n",
              "  'place_id': 'ChIJGTWRJCZYei4RUlyKNWf5xD0',\n",
              "  'data_id': '0x2e7a582624913519:0x3dc4f967358a5c52',\n",
              "  'data_cid': '4450956553424100434',\n",
              "  'reviews_link': 'https://serpapi.com/search.json?data_id=0x2e7a582624913519%3A0x3dc4f967358a5c52&engine=google_maps_reviews&hl=id',\n",
              "  'photos_link': 'https://serpapi.com/search.json?data_id=0x2e7a582624913519%3A0x3dc4f967358a5c52&engine=google_maps_photos&hl=id',\n",
              "  'gps_coordinates': {'latitude': -7.7925659, 'longitude': 110.3659852},\n",
              "  'place_id_search': 'https://serpapi.com/search.json?data=%214m5%213m4%211s0x2e7a582624913519%3A0x3dc4f967358a5c52%218m2%213d-7.7925659%214d110.3659852&engine=google_maps&google_domain=google.com&hl=id&type=place',\n",
              "  'rating': 4.1,\n",
              "  'reviews': 507,\n",
              "  'unclaimed_listing': True,\n",
              "  'type': 'Restoran',\n",
              "  'address': 'Jl. Perwakilan No.9, Suryatmajan, Kec. Danurejan, Kota Yogyakarta, Daerah Istimewa Yogyakarta 55213, Indonesia',\n",
              "  'open_state': 'Buka ⋅ Tutup pukul 22.30',\n",
              "  'hours': 'Buka ⋅ Tutup pukul 22.30',\n",
              "  'operating_hours': {'senin': '12.00–22.30',\n",
              "   'selasa': '12.00–22.30',\n",
              "   'rabu': '12.00–22.30',\n",
              "   'kamis': '12.00–22.30',\n",
              "   'jumat': '12.00–22.30',\n",
              "   'sabtu': '12.00–22.30',\n",
              "   'minggu': '12.00–22.30'},\n",
              "  'phone': '+62 274 564644',\n",
              "  'website': 'http://legianrestaurant.weebly.com/',\n",
              "  'service_options': {'makan_di_tempat': True,\n",
              "   'bawa_pulang': True,\n",
              "   'antar_tanpa_bertemu': True},\n",
              "  'thumbnail': 'https://lh5.googleusercontent.com/p/AF1QipPYcaA_X0scrW3H2vtRBeXV4rjoXJEIlHw94ltX=w122-h92-k-no'},\n",
              " {'position': 5,\n",
              "  'title': 'Dapur EL',\n",
              "  'place_id': 'ChIJZ4iWXKNXei4RAKfGZhOm_uI',\n",
              "  'data_id': '0x2e7a57a35c968867:0xe2fea61366c6a700',\n",
              "  'data_cid': '16356693498915104512',\n",
              "  'reviews_link': 'https://serpapi.com/search.json?data_id=0x2e7a57a35c968867%3A0xe2fea61366c6a700&engine=google_maps_reviews&hl=id',\n",
              "  'photos_link': 'https://serpapi.com/search.json?data_id=0x2e7a57a35c968867%3A0xe2fea61366c6a700&engine=google_maps_photos&hl=id',\n",
              "  'gps_coordinates': {'latitude': -7.8211159, 'longitude': 110.3678259},\n",
              "  'place_id_search': 'https://serpapi.com/search.json?data=%214m5%213m4%211s0x2e7a57a35c968867%3A0xe2fea61366c6a700%218m2%213d-7.8211159%214d110.3678259&engine=google_maps&google_domain=google.com&hl=id&type=place',\n",
              "  'rating': 4.5,\n",
              "  'reviews': 188,\n",
              "  'price': '$',\n",
              "  'type': 'Restoran Asia',\n",
              "  'address': 'Jl. Parangtritis No.100, Mantrijeron, Kec. Mergangsan, Kota Yogyakarta, Daerah Istimewa Yogyakarta 55143, Indonesia',\n",
              "  'open_state': 'Buka ⋅ Tutup pukul 22.00',\n",
              "  'hours': 'Buka ⋅ Tutup pukul 22.00',\n",
              "  'operating_hours': {'senin': '11.00–22.00',\n",
              "   'selasa': '11.00–22.00',\n",
              "   'rabu': '11.00–22.00',\n",
              "   'kamis': '11.00–22.00',\n",
              "   'jumat': '11.00–22.00',\n",
              "   'sabtu': '11.00–22.00',\n",
              "   'minggu': 'Tutup'},\n",
              "  'phone': '+62 895-3915-16161',\n",
              "  'website': 'https://dapur-el.business.site/',\n",
              "  'description': 'Resto nyaman & hidangan pedas Indonesia. Restoran nyaman dengan ayam, seafood & menu klasik lainnya di tempat bernuansa cerah plus area duduk outdoor.',\n",
              "  'service_options': {'makan_di_tempat': True,\n",
              "   'bawa_pulang': True,\n",
              "   'antar_tanpa_bertemu': True},\n",
              "  'thumbnail': 'https://lh5.googleusercontent.com/p/AF1QipOlm27w9r2scmROsIEQ0Vf8pX4gs9bC0Vguyy8O=w92-h92-k-no'},\n",
              " {'position': 6,\n",
              "  'title': 'Kayu Manis Restaurant',\n",
              "  'place_id': 'ChIJCzXSR0hYei4RX_5Qdwz1kKU',\n",
              "  'data_id': '0x2e7a584847d2350b:0xa590f50c7750fe5f',\n",
              "  'data_cid': '11930304846794653279',\n",
              "  'reviews_link': 'https://serpapi.com/search.json?data_id=0x2e7a584847d2350b%3A0xa590f50c7750fe5f&engine=google_maps_reviews&hl=id',\n",
              "  'photos_link': 'https://serpapi.com/search.json?data_id=0x2e7a584847d2350b%3A0xa590f50c7750fe5f&engine=google_maps_photos&hl=id',\n",
              "  'gps_coordinates': {'latitude': -7.773888899999999,\n",
              "   'longitude': 110.3686111},\n",
              "  'place_id_search': 'https://serpapi.com/search.json?data=%214m5%213m4%211s0x2e7a584847d2350b%3A0xa590f50c7750fe5f%218m2%213d-7.773888899999999%214d110.3686111&engine=google_maps&google_domain=google.com&hl=id&type=place',\n",
              "  'rating': 4.5,\n",
              "  'reviews': 141,\n",
              "  'type': 'Restoran',\n",
              "  'address': 'Hotel Tentrem Area, Jl. P. Mangkubumi No.72A, Cokrodiningratan, Jetis, Yogyakarta City, Special Region of Yogyakarta 55233, Indonesia',\n",
              "  'open_state': 'Buka 24 jam',\n",
              "  'hours': 'Buka 24 jam',\n",
              "  'operating_hours': {'senin': 'Buka 24 jam',\n",
              "   'selasa': 'Buka 24 jam',\n",
              "   'rabu': 'Buka 24 jam',\n",
              "   'kamis': 'Buka 24 jam',\n",
              "   'jumat': 'Buka 24 jam',\n",
              "   'sabtu': 'Buka 24 jam',\n",
              "   'minggu': 'Buka 24 jam'},\n",
              "  'phone': '+62 274 6415555',\n",
              "  'website': 'http://www.hoteltentrem.com/',\n",
              "  'description': 'Resto tepi kolam & berbagai menu global. Resto hotel menyajikan menu a la carte global & prasmanan di area kontemporer yang menghadap ke kolam renang.',\n",
              "  'service_options': {'makan_di_tempat': True, 'bawa_pulang': True},\n",
              "  'thumbnail': 'https://lh5.googleusercontent.com/p/AF1QipOxQnsr5an98muuNL4M0tPaey8xB-CL3yFCt0Yv=w80-h106-k-no'},\n",
              " {'position': 7,\n",
              "  'title': 'Nanamia Pizzeria',\n",
              "  'place_id': 'ChIJmV3dvb1Xei4R_eWxqW2JneE',\n",
              "  'data_id': '0x2e7a57bdbddd5d99:0xe19d896da9b1e5fd',\n",
              "  'data_cid': '16257301333968807421',\n",
              "  'reviews_link': 'https://serpapi.com/search.json?data_id=0x2e7a57bdbddd5d99%3A0xe19d896da9b1e5fd&engine=google_maps_reviews&hl=id',\n",
              "  'photos_link': 'https://serpapi.com/search.json?data_id=0x2e7a57bdbddd5d99%3A0xe19d896da9b1e5fd&engine=google_maps_photos&hl=id',\n",
              "  'gps_coordinates': {'latitude': -7.8180926, 'longitude': 110.3626235},\n",
              "  'place_id_search': 'https://serpapi.com/search.json?data=%214m5%213m4%211s0x2e7a57bdbddd5d99%3A0xe19d896da9b1e5fd%218m2%213d-7.8180926%214d110.3626235&engine=google_maps&google_domain=google.com&hl=id&type=place',\n",
              "  'rating': 4.7,\n",
              "  'reviews': 6943,\n",
              "  'price': '$$',\n",
              "  'type': 'Restoran Italia',\n",
              "  'address': 'Jl. Tirtodipuran No.1, Mantrijeron, Kec. Mantrijeron, Kota Yogyakarta, Daerah Istimewa Yogyakarta 55143, Indonesia',\n",
              "  'open_state': 'Buka ⋅ Tutup pukul 22.00',\n",
              "  'hours': 'Buka ⋅ Tutup pukul 22.00',\n",
              "  'operating_hours': {'senin': '10.00–22.00',\n",
              "   'selasa': '10.00–22.00',\n",
              "   'rabu': '10.00–22.00',\n",
              "   'kamis': '10.00–22.00',\n",
              "   'jumat': '10.00–22.00',\n",
              "   'sabtu': '10.00–22.00',\n",
              "   'minggu': '10.00–22.00'},\n",
              "  'phone': '+62 812-6694-3697',\n",
              "  'website': 'http://www.pizzeriananamia.com/',\n",
              "  'description': 'Area kasual plus makanan Italia & taman. Restoran Italia santai dengan taman yang menyajikan antipasti, pasta, piza kayu bakar, dan hidangan daging.',\n",
              "  'service_options': {'makan_di_tempat': True,\n",
              "   'bawa_pulang': True,\n",
              "   'antar_tanpa_bertemu': True},\n",
              "  'thumbnail': 'https://lh5.googleusercontent.com/p/AF1QipOAnU9bseiElnBWIuv0Ie55lw-bK5jqBestAkIz=w122-h92-k-no'},\n",
              " {'position': 8,\n",
              "  'title': 'The Westlake Resto',\n",
              "  'place_id': 'ChIJg8QdwYRYei4RtSC3_BmxokY',\n",
              "  'data_id': '0x2e7a5884c11dc483:0x46a2b119fcb720b5',\n",
              "  'data_cid': '5089825254054240437',\n",
              "  'reviews_link': 'https://serpapi.com/search.json?data_id=0x2e7a5884c11dc483%3A0x46a2b119fcb720b5&engine=google_maps_reviews&hl=id',\n",
              "  'photos_link': 'https://serpapi.com/search.json?data_id=0x2e7a5884c11dc483%3A0x46a2b119fcb720b5&engine=google_maps_photos&hl=id',\n",
              "  'gps_coordinates': {'latitude': -7.7474801, 'longitude': 110.3376212},\n",
              "  'place_id_search': 'https://serpapi.com/search.json?data=%214m5%213m4%211s0x2e7a5884c11dc483%3A0x46a2b119fcb720b5%218m2%213d-7.7474801%214d110.3376212&engine=google_maps&google_domain=google.com&hl=id&type=place',\n",
              "  'rating': 4.5,\n",
              "  'reviews': 8817,\n",
              "  'price': '$$',\n",
              "  'type': 'Restoran Seafood',\n",
              "  'address': 'Bedog, Jl. Ringroad Barat, Baturan, Trihanggo, Kec. Gamping, Kabupaten Sleman, Daerah Istimewa Yogyakarta 55291, Indonesia',\n",
              "  'open_state': 'Buka ⋅ Tutup pukul 22.00',\n",
              "  'hours': 'Buka ⋅ Tutup pukul 22.00',\n",
              "  'operating_hours': {'senin': '10.00–22.00',\n",
              "   'selasa': '10.00–22.00',\n",
              "   'rabu': '10.00–22.00',\n",
              "   'kamis': '10.00–22.00',\n",
              "   'jumat': '10.00–22.00',\n",
              "   'sabtu': '10.00–22.00',\n",
              "   'minggu': '10.00–22.00'},\n",
              "  'phone': '+62 811-255-511',\n",
              "  'website': 'http://the-westlake.com/',\n",
              "  'service_options': {'makan_di_tempat': True,\n",
              "   'bawa_pulang': True,\n",
              "   'antar_tanpa_bertemu': True},\n",
              "  'thumbnail': 'https://lh5.googleusercontent.com/p/AF1QipPBbF19B2UFXrW9jlJMg5ekMMDcb4G9zeXtGu4o=w122-h92-k-no'},\n",
              " {'position': 9,\n",
              "  'title': 'The Samara Restaurant',\n",
              "  'place_id': 'ChIJq0cixsJZei4RECRk6pRWM_w',\n",
              "  'data_id': '0x2e7a59c2c62247ab:0xfc335694ea642410',\n",
              "  'data_cid': '18172964118957663248',\n",
              "  'reviews_link': 'https://serpapi.com/search.json?data_id=0x2e7a59c2c62247ab%3A0xfc335694ea642410&engine=google_maps_reviews&hl=id',\n",
              "  'photos_link': 'https://serpapi.com/search.json?data_id=0x2e7a59c2c62247ab%3A0xfc335694ea642410&engine=google_maps_photos&hl=id',\n",
              "  'gps_coordinates': {'latitude': -7.7835759, 'longitude': 110.40054889999999},\n",
              "  'place_id_search': 'https://serpapi.com/search.json?data=%214m5%213m4%211s0x2e7a59c2c62247ab%3A0xfc335694ea642410%218m2%213d-7.7835759%214d110.40054889999999&engine=google_maps&google_domain=google.com&hl=id&type=place',\n",
              "  'rating': 4.8,\n",
              "  'reviews': 64,\n",
              "  'type': 'Restoran',\n",
              "  'address': 'Jl. Laksda Adisucipto No.82, Ambarukmo, Caturtunggal, Kec. Depok, Kabupaten Sleman, Daerah Istimewa Yogyakarta 55281, Indonesia',\n",
              "  'open_state': 'Buka ⋅ Tutup pukul 23.00',\n",
              "  'hours': 'Buka ⋅ Tutup pukul 23.00',\n",
              "  'operating_hours': {'senin': '06.00–23.00',\n",
              "   'selasa': '06.00–23.00',\n",
              "   'rabu': '06.00–23.00',\n",
              "   'kamis': '06.00–23.00',\n",
              "   'jumat': '06.00–23.00',\n",
              "   'sabtu': '06.00–23.00',\n",
              "   'minggu': '06.00–23.00'},\n",
              "  'phone': '+62 274 2800088',\n",
              "  'website': 'http://grand-ambarrukmo.com/',\n",
              "  'service_options': {'makan_di_tempat': True,\n",
              "   'bawa_pulang': True,\n",
              "   'antar_tanpa_bertemu': True},\n",
              "  'thumbnail': 'https://lh5.googleusercontent.com/p/AF1QipNnndIvLeaJ9Y75drzwXdvm-DhjT5BVG8HtqFpt=w122-h92-k-no'},\n",
              " {'position': 10,\n",
              "  'title': 'Tulip Restaurant',\n",
              "  'place_id': 'ChIJbb7imSZYei4RnbN_KMhOAiE',\n",
              "  'data_id': '0x2e7a582699e2be6d:0x21024ec8287fb39d',\n",
              "  'data_cid': '2378550174784926621',\n",
              "  'reviews_link': 'https://serpapi.com/search.json?data_id=0x2e7a582699e2be6d%3A0x21024ec8287fb39d&engine=google_maps_reviews&hl=id',\n",
              "  'photos_link': 'https://serpapi.com/search.json?data_id=0x2e7a582699e2be6d%3A0x21024ec8287fb39d&engine=google_maps_photos&hl=id',\n",
              "  'gps_coordinates': {'latitude': -7.791714, 'longitude': 110.36250799999999},\n",
              "  'place_id_search': 'https://serpapi.com/search.json?data=%214m5%213m4%211s0x2e7a582699e2be6d%3A0x21024ec8287fb39d%218m2%213d-7.791714%214d110.36250799999999&engine=google_maps&google_domain=google.com&hl=id&type=place',\n",
              "  'unclaimed_listing': True,\n",
              "  'type': 'Restoran',\n",
              "  'address': 'Jl. Sosrowijayan No.23-25, Sosromenduran, Gedong Tengen, Kota Yogyakarta, Daerah Istimewa Yogyakarta 55271, Indonesia',\n",
              "  'open_state': 'Buka ⋅ Tutup pukul 23.00',\n",
              "  'hours': 'Buka ⋅ Tutup pukul 23.00',\n",
              "  'operating_hours': {'senin': '07.00–23.00',\n",
              "   'selasa': '07.00–23.00',\n",
              "   'rabu': '07.00–23.00',\n",
              "   'kamis': '07.00–23.00',\n",
              "   'jumat': '07.00–23.00',\n",
              "   'sabtu': '07.00–23.00',\n",
              "   'minggu': '07.00–23.00'},\n",
              "  'phone': '+62 274 561705',\n",
              "  'service_options': {'makan_di_tempat': True, 'bawa_pulang': True},\n",
              "  'thumbnail': 'https://streetviewpixels-pa.googleapis.com/v1/thumbnail?panoid=BH5clgpCYvB6aGqYM4rwYA&cb_client=search.gws-prod.gps&w=80&h=92&yaw=159.33423&pitch=0&thumbfov=100'},\n",
              " {'position': 11,\n",
              "  'title': 'SamaZana Restaurant',\n",
              "  'place_id': 'ChIJAx-ueuhZei4Rn4_nPQ6LZwE',\n",
              "  'data_id': '0x2e7a59e87aae1f03:0x1678b0e3de78f9f',\n",
              "  'data_cid': '101202409923514271',\n",
              "  'reviews_link': 'https://serpapi.com/search.json?data_id=0x2e7a59e87aae1f03%3A0x1678b0e3de78f9f&engine=google_maps_reviews&hl=id',\n",
              "  'photos_link': 'https://serpapi.com/search.json?data_id=0x2e7a59e87aae1f03%3A0x1678b0e3de78f9f&engine=google_maps_photos&hl=id',\n",
              "  'gps_coordinates': {'latitude': -7.7823033, 'longitude': 110.4032781},\n",
              "  'place_id_search': 'https://serpapi.com/search.json?data=%214m5%213m4%211s0x2e7a59e87aae1f03%3A0x1678b0e3de78f9f%218m2%213d-7.7823033%214d110.4032781&engine=google_maps&google_domain=google.com&hl=id&type=place',\n",
              "  'rating': 4.7,\n",
              "  'reviews': 223,\n",
              "  'type': 'Restoran',\n",
              "  'address': 'Royal Ambarrukmo Yogyakarta, Jl. Laksda Adisucipto No.81, Ambarukmo, Caturtunggal, Kec. Depok, Kabupaten Sleman, Daerah Istimewa Yogyakarta 55281, Indonesia',\n",
              "  'open_state': 'Buka ⋅ Tutup pukul 23.00',\n",
              "  'hours': 'Buka ⋅ Tutup pukul 23.00',\n",
              "  'operating_hours': {'senin': '06.00–23.00',\n",
              "   'selasa': '06.00–23.00',\n",
              "   'rabu': '06.00–23.00',\n",
              "   'kamis': '06.00–23.00',\n",
              "   'jumat': '06.00–23.00',\n",
              "   'sabtu': '06.00–23.00',\n",
              "   'minggu': '06.00–23.00'},\n",
              "  'phone': '+62 274 488488',\n",
              "  'website': 'http://www.royalambarrukmo.com/',\n",
              "  'service_options': {'makan_di_tempat': True,\n",
              "   'bawa_pulang': True,\n",
              "   'antar_tanpa_bertemu': True},\n",
              "  'thumbnail': 'https://lh5.googleusercontent.com/p/AF1QipOIeQ6ObmL7be8JiiwAzKXAmay1ugpIVqXez8ZP=w137-h92-k-no'},\n",
              " {'position': 12,\n",
              "  'title': 'Sekar Kedhaton Restaurant',\n",
              "  'place_id': 'ChIJLzJulxpXei4RhH3JNtgorQE',\n",
              "  'data_id': '0x2e7a571a976e322f:0x1ad28d836c97d84',\n",
              "  'data_cid': '120797674106092932',\n",
              "  'reviews_link': 'https://serpapi.com/search.json?data_id=0x2e7a571a976e322f%3A0x1ad28d836c97d84&engine=google_maps_reviews&hl=id',\n",
              "  'photos_link': 'https://serpapi.com/search.json?data_id=0x2e7a571a976e322f%3A0x1ad28d836c97d84&engine=google_maps_photos&hl=id',\n",
              "  'gps_coordinates': {'latitude': -7.8270390999999995,\n",
              "   'longitude': 110.3927971},\n",
              "  'place_id_search': 'https://serpapi.com/search.json?data=%214m5%213m4%211s0x2e7a571a976e322f%3A0x1ad28d836c97d84%218m2%213d-7.8270390999999995%214d110.3927971&engine=google_maps&google_domain=google.com&hl=id&type=place',\n",
              "  'rating': 4.4,\n",
              "  'reviews': 1930,\n",
              "  'price': '$$',\n",
              "  'type': 'Restoran Jawa',\n",
              "  'address': 'Jl. Tegal Gendu No.28, Prenggan, Kec. Kotagede, Kota Yogyakarta, Daerah Istimewa Yogyakarta 55173, Indonesia',\n",
              "  'open_state': 'Buka ⋅ Tutup pukul 21.00',\n",
              "  'hours': 'Buka ⋅ Tutup pukul 21.00',\n",
              "  'operating_hours': {'senin': '09.00–21.00',\n",
              "   'selasa': '09.00–21.00',\n",
              "   'rabu': '09.00–21.00',\n",
              "   'kamis': '09.00–21.00',\n",
              "   'jumat': '09.00–21.00',\n",
              "   'sabtu': '09.00–21.00',\n",
              "   'minggu': '09.00–21.00'},\n",
              "  'phone': '+62 274 386868',\n",
              "  'service_options': {'makan_di_tempat': True,\n",
              "   'bawa_pulang': True,\n",
              "   'antar_tanpa_bertemu': True},\n",
              "  'thumbnail': 'https://lh5.googleusercontent.com/p/AF1QipPf_xkLker-NcM5_QjASw4upJFqGEM91xlpZ4nz=w163-h92-k-no'},\n",
              " {'position': 13,\n",
              "  'title': 'City Grill - Eastern Mediterranean Restaurant',\n",
              "  'place_id': 'ChIJk-q9jRRXei4RynFu1T6P-c4',\n",
              "  'data_id': '0x2e7a57148dbdea93:0xcef98f3ed56e71ca',\n",
              "  'data_cid': '14914109141045637578',\n",
              "  'reviews_link': 'https://serpapi.com/search.json?data_id=0x2e7a57148dbdea93%3A0xcef98f3ed56e71ca&engine=google_maps_reviews&hl=id',\n",
              "  'photos_link': 'https://serpapi.com/search.json?data_id=0x2e7a57148dbdea93%3A0xcef98f3ed56e71ca&engine=google_maps_photos&hl=id',\n",
              "  'gps_coordinates': {'latitude': -7.8194842, 'longitude': 110.36813079999999},\n",
              "  'place_id_search': 'https://serpapi.com/search.json?data=%214m5%213m4%211s0x2e7a57148dbdea93%3A0xcef98f3ed56e71ca%218m2%213d-7.8194842%214d110.36813079999999&engine=google_maps&google_domain=google.com&hl=id&type=place',\n",
              "  'rating': 4.9,\n",
              "  'reviews': 152,\n",
              "  'type': 'Restoran Mediterania',\n",
              "  'address': 'Jl. Parangtritis No.95, Brontokusuman, Mergangsan, Yogyakarta City, Special Region of Yogyakarta 55153, Indonesia',\n",
              "  'open_state': 'Buka ⋅ Tutup pukul 23.30',\n",
              "  'hours': 'Buka ⋅ Tutup pukul 23.30',\n",
              "  'operating_hours': {'senin': '11.00–23.30',\n",
              "   'selasa': '11.00–23.30',\n",
              "   'rabu': '11.00–23.30',\n",
              "   'kamis': '11.00–23.30',\n",
              "   'jumat': '11.00–23.30',\n",
              "   'sabtu': '11.00–23.30',\n",
              "   'minggu': '11.00–23.30'},\n",
              "  'phone': '+62 813-2832-2668',\n",
              "  'website': 'https://www.instagram.com/citygrill_jogja/',\n",
              "  'service_options': {'makan_di_tempat': True,\n",
              "   'ambil_di_tepi_jalan': True,\n",
              "   'pesan_antar': True},\n",
              "  'thumbnail': 'https://lh5.googleusercontent.com/p/AF1QipNUxEBFb41AwsTi-7x7TN1BlenVhNv5CTcWmcTo=w163-h92-k-no'},\n",
              " {'position': 14,\n",
              "  'title': 'Gadjah Wong Restaurant',\n",
              "  'place_id': 'ChIJ_zHPwqRZei4RihcRtLxZLRk',\n",
              "  'data_id': '0x2e7a59a4c2cf31ff:0x192d59bcb411178a',\n",
              "  'data_cid': '1814204891909920650',\n",
              "  'reviews_link': 'https://serpapi.com/search.json?data_id=0x2e7a59a4c2cf31ff%3A0x192d59bcb411178a&engine=google_maps_reviews&hl=id',\n",
              "  'photos_link': 'https://serpapi.com/search.json?data_id=0x2e7a59a4c2cf31ff%3A0x192d59bcb411178a&engine=google_maps_photos&hl=id',\n",
              "  'gps_coordinates': {'latitude': -7.7624362, 'longitude': 110.39414},\n",
              "  'place_id_search': 'https://serpapi.com/search.json?data=%214m5%213m4%211s0x2e7a59a4c2cf31ff%3A0x192d59bcb411178a%218m2%213d-7.7624362%214d110.39414&engine=google_maps&google_domain=google.com&hl=id&type=place',\n",
              "  'rating': 4.4,\n",
              "  'reviews': 693,\n",
              "  'price': '$$$',\n",
              "  'type': 'Restoran Keluarga',\n",
              "  'address': 'Jl. Affandi No.79D, Soropadan, Condongcatur, Kec. Depok, Kabupaten Sleman, Daerah Istimewa Yogyakarta 55281, Indonesia',\n",
              "  'open_state': 'Tutup ⋅ Buka Sel pukul 15.00',\n",
              "  'hours': 'Tutup ⋅ Buka Sel pukul 15.00',\n",
              "  'operating_hours': {'senin': 'Tutup',\n",
              "   'selasa': '15.00–21.00',\n",
              "   'rabu': '15.00–21.00',\n",
              "   'kamis': '15.00–21.00',\n",
              "   'jumat': '15.00–21.00',\n",
              "   'sabtu': '15.00–21.00',\n",
              "   'minggu': '15.00–21.00'},\n",
              "  'phone': '+62 274 588294',\n",
              "  'website': 'https://www.instagram.com/gadjahwong/',\n",
              "  'service_options': {'makan_di_tempat': True,\n",
              "   'bawa_pulang': True,\n",
              "   'pesan_antar': True},\n",
              "  'thumbnail': 'https://lh5.googleusercontent.com/p/AF1QipPp3XRnmPzrse8fDcgYwehE5mbvYYRp_7p6CAI=w138-h92-k-no'},\n",
              " {'position': 15,\n",
              "  'title': 'Paprika Restaurant',\n",
              "  'place_id': 'ChIJoa-IjDBYei4RQ2t6P1iSYaY',\n",
              "  'data_id': '0x2e7a58308c88afa1:0xa66192583f7a6b43',\n",
              "  'data_cid': '11989024590756735811',\n",
              "  'reviews_link': 'https://serpapi.com/search.json?data_id=0x2e7a58308c88afa1%3A0xa66192583f7a6b43&engine=google_maps_reviews&hl=id',\n",
              "  'photos_link': 'https://serpapi.com/search.json?data_id=0x2e7a58308c88afa1%3A0xa66192583f7a6b43&engine=google_maps_photos&hl=id',\n",
              "  'gps_coordinates': {'latitude': -7.7830676, 'longitude': 110.3678565},\n",
              "  'place_id_search': 'https://serpapi.com/search.json?data=%214m5%213m4%211s0x2e7a58308c88afa1%3A0xa66192583f7a6b43%218m2%213d-7.7830676%214d110.3678565&engine=google_maps&google_domain=google.com&hl=id&type=place',\n",
              "  'rating': 4.4,\n",
              "  'reviews': 29,\n",
              "  'type': 'Restoran',\n",
              "  'address': 'The Phoenix Hotel, Jl. Jend. Sudirman No.9, Cokrodiningratan, Kec. Jetis, Kota Yogyakarta, Daerah Istimewa Yogyakarta 55233, Indonesia',\n",
              "  'open_state': 'Buka 24 jam',\n",
              "  'hours': 'Buka 24 jam',\n",
              "  'operating_hours': {'senin': 'Buka 24 jam',\n",
              "   'selasa': 'Buka 24 jam',\n",
              "   'rabu': 'Buka 24 jam',\n",
              "   'kamis': 'Buka 24 jam',\n",
              "   'jumat': 'Buka 24 jam',\n",
              "   'sabtu': 'Buka 24 jam',\n",
              "   'minggu': 'Buka 24 jam'},\n",
              "  'phone': '+62 274 566617',\n",
              "  'service_options': {'makan_di_tempat': True, 'bawa_pulang': True},\n",
              "  'thumbnail': 'https://lh5.googleusercontent.com/p/AF1QipNjSMpBXNxM-Uh-dNhUtVT115P12c4_3ZraCV2v=w126-h92-k-no'},\n",
              " {'position': 16,\n",
              "  'title': 'Roaster And Bear Restaurant',\n",
              "  'place_id': 'ChIJd5Q4fDBYei4RG6uDmHe8xXs',\n",
              "  'data_id': '0x2e7a58307c389477:0x7bc5bc779883ab1b',\n",
              "  'data_cid': '8918741858923031323',\n",
              "  'reviews_link': 'https://serpapi.com/search.json?data_id=0x2e7a58307c389477%3A0x7bc5bc779883ab1b&engine=google_maps_reviews&hl=id',\n",
              "  'photos_link': 'https://serpapi.com/search.json?data_id=0x2e7a58307c389477%3A0x7bc5bc779883ab1b&engine=google_maps_photos&hl=id',\n",
              "  'gps_coordinates': {'latitude': -7.7845645999999995,\n",
              "   'longitude': 110.3671832},\n",
              "  'place_id_search': 'https://serpapi.com/search.json?data=%214m5%213m4%211s0x2e7a58307c389477%3A0x7bc5bc779883ab1b%218m2%213d-7.7845645999999995%214d110.3671832&engine=google_maps&google_domain=google.com&hl=id&type=place',\n",
              "  'rating': 4.6,\n",
              "  'reviews': 4967,\n",
              "  'price': '$$',\n",
              "  'type': 'Restoran Masakan Barat',\n",
              "  'address': 'Jl. P. Mangkubumi No.52, Gowongan, Kec. Jetis, Kota Yogyakarta, Daerah Istimewa Yogyakarta 55233, Indonesia',\n",
              "  'open_state': 'Buka ⋅ Tutup pukul 22.00',\n",
              "  'hours': 'Buka ⋅ Tutup pukul 22.00',\n",
              "  'operating_hours': {'senin': '11.00–22.00',\n",
              "   'selasa': '11.00–22.00',\n",
              "   'rabu': '11.00–22.00',\n",
              "   'kamis': '11.00–22.00',\n",
              "   'jumat': '11.00–22.00',\n",
              "   'sabtu': '11.00–22.00',\n",
              "   'minggu': '11.00–22.00'},\n",
              "  'phone': '+62 274 2920027',\n",
              "  'website': 'https://linktr.ee/roasterandbear',\n",
              "  'service_options': {'makan_di_tempat': True,\n",
              "   'bawa_pulang': True,\n",
              "   'antar_tanpa_bertemu': True},\n",
              "  'thumbnail': 'https://lh5.googleusercontent.com/p/AF1QipMsL52YW4PaO1SW4c-C7jZRjeC48ymNjLFHJ1Wx=w122-h92-k-no'},\n",
              " {'position': 17,\n",
              "  'title': \"K'Meals Bar & Restaurant\",\n",
              "  'place_id': 'ChIJxaMesqNXei4RzuakechUyec',\n",
              "  'data_id': '0x2e7a57a3b21ea3c5:0xe7c954c879a4e6ce',\n",
              "  'data_cid': '16701973913091237582',\n",
              "  'reviews_link': 'https://serpapi.com/search.json?data_id=0x2e7a57a3b21ea3c5%3A0xe7c954c879a4e6ce&engine=google_maps_reviews&hl=id',\n",
              "  'photos_link': 'https://serpapi.com/search.json?data_id=0x2e7a57a3b21ea3c5%3A0xe7c954c879a4e6ce&engine=google_maps_photos&hl=id',\n",
              "  'gps_coordinates': {'latitude': -7.8192973, 'longitude': 110.3703817},\n",
              "  'place_id_search': 'https://serpapi.com/search.json?data=%214m5%213m4%211s0x2e7a57a3b21ea3c5%3A0xe7c954c879a4e6ce%218m2%213d-7.8192973%214d110.3703817&engine=google_maps&google_domain=google.com&hl=id&type=place',\n",
              "  'rating': 4.4,\n",
              "  'reviews': 600,\n",
              "  'price': '$$',\n",
              "  'type': 'Bar & Grill',\n",
              "  'address': 'Jl. Prawirotaman No.20, Brontokusuman, Kec. Mergangsan, Kota Yogyakarta, Daerah Istimewa Yogyakarta 55153, Indonesia',\n",
              "  'open_state': 'Buka ⋅ Tutup pukul 00.00',\n",
              "  'hours': 'Buka ⋅ Tutup pukul 00.00',\n",
              "  'operating_hours': {'senin': '10.00–00.00',\n",
              "   'selasa': '10.00–00.00',\n",
              "   'rabu': '10.00–00.00',\n",
              "   'kamis': '10.00–00.00',\n",
              "   'jumat': '10.00–00.00',\n",
              "   'sabtu': '10.00–00.00',\n",
              "   'minggu': '10.00–00.00'},\n",
              "  'phone': '+62 812-4345-8008',\n",
              "  'service_options': {'makan_di_tempat': True,\n",
              "   'bawa_pulang': True,\n",
              "   'antar_tanpa_bertemu': True},\n",
              "  'thumbnail': 'https://lh5.googleusercontent.com/p/AF1QipMz8oec6UQNCcb1T5H6u2K-5-6pet0WSavBok4b=w163-h92-k-no'},\n",
              " {'position': 18,\n",
              "  'title': 'Restoran Gazebo Garden',\n",
              "  'place_id': 'ChIJqTiMBZtXei4R8F1oLGB-Wa0',\n",
              "  'data_id': '0x2e7a579b058c38a9:0xad597e602c685df0',\n",
              "  'data_cid': '12491153993015778800',\n",
              "  'reviews_link': 'https://serpapi.com/search.json?data_id=0x2e7a579b058c38a9%3A0xad597e602c685df0&engine=google_maps_reviews&hl=id',\n",
              "  'photos_link': 'https://serpapi.com/search.json?data_id=0x2e7a579b058c38a9%3A0xad597e602c685df0&engine=google_maps_photos&hl=id',\n",
              "  'gps_coordinates': {'latitude': -7.8081716, 'longitude': 110.37043129999999},\n",
              "  'place_id_search': 'https://serpapi.com/search.json?data=%214m5%213m4%211s0x2e7a579b058c38a9%3A0xad597e602c685df0%218m2%213d-7.8081716%214d110.37043129999999&engine=google_maps&google_domain=google.com&hl=id&type=place',\n",
              "  'rating': 4.3,\n",
              "  'reviews': 194,\n",
              "  'price': '$$',\n",
              "  'unclaimed_listing': True,\n",
              "  'type': 'Restoran',\n",
              "  'address': '59RC+P5M, Jl. Brigjen Katamso, Keparakan, Kec. Gondomanan, Kota Yogyakarta, Daerah Istimewa Yogyakarta 55152, Indonesia',\n",
              "  'open_state': 'Buka ⋅ Tutup pukul 22.00',\n",
              "  'hours': 'Buka ⋅ Tutup pukul 22.00',\n",
              "  'operating_hours': {'senin': '11.00–22.00',\n",
              "   'selasa': '11.00–22.00',\n",
              "   'rabu': '11.00–22.00',\n",
              "   'kamis': '11.00–22.00',\n",
              "   'jumat': '11.00–22.00',\n",
              "   'sabtu': '11.00–22.00',\n",
              "   'minggu': '11.00–22.00'},\n",
              "  'phone': '+62 274 375705',\n",
              "  'website': 'http://www.mandirabaruga.com/',\n",
              "  'service_options': {'makan_di_tempat': True, 'bawa_pulang': True},\n",
              "  'thumbnail': 'https://lh5.googleusercontent.com/p/AF1QipPj9hhHLBRYr2zx-8qhCj2dJa7xpcBIMlAItorh=w163-h92-k-no'},\n",
              " {'position': 19,\n",
              "  'title': 'Twins Restaurant',\n",
              "  'place_id': 'ChIJEyJ6-C9Yei4RPcXTNcNHG0w',\n",
              "  'data_id': '0x2e7a582ff87a2213:0x4c1b47c335d3c53d',\n",
              "  'data_cid': '5484055875000976701',\n",
              "  'reviews_link': 'https://serpapi.com/search.json?data_id=0x2e7a582ff87a2213%3A0x4c1b47c335d3c53d&engine=google_maps_reviews&hl=id',\n",
              "  'photos_link': 'https://serpapi.com/search.json?data_id=0x2e7a582ff87a2213%3A0x4c1b47c335d3c53d&engine=google_maps_photos&hl=id',\n",
              "  'gps_coordinates': {'latitude': -7.7894887, 'longitude': 110.36327689999999},\n",
              "  'place_id_search': 'https://serpapi.com/search.json?data=%214m5%213m4%211s0x2e7a582ff87a2213%3A0x4c1b47c335d3c53d%218m2%213d-7.7894887%214d110.36327689999999&engine=google_maps&google_domain=google.com&hl=id&type=place',\n",
              "  'rating': 4.1,\n",
              "  'reviews': 290,\n",
              "  'unclaimed_listing': True,\n",
              "  'type': 'Restoran Keluarga',\n",
              "  'address': '6967+682, JL. P. Mangkubumi, Gowongan, Kec. Jetis, Kota Yogyakarta, Daerah Istimewa Yogyakarta 55233, Indonesia',\n",
              "  'open_state': 'Buka 24 jam',\n",
              "  'hours': 'Buka 24 jam',\n",
              "  'operating_hours': {'senin': 'Buka 24 jam',\n",
              "   'selasa': 'Buka 24 jam',\n",
              "   'rabu': 'Buka 24 jam',\n",
              "   'kamis': 'Buka 24 jam',\n",
              "   'jumat': 'Buka 24 jam',\n",
              "   'sabtu': 'Buka 24 jam',\n",
              "   'minggu': 'Buka 24 jam'},\n",
              "  'phone': '+62 274 584844',\n",
              "  'service_options': {'makan_di_tempat': True, 'bawa_pulang': True},\n",
              "  'thumbnail': 'https://lh5.googleusercontent.com/p/AF1QipMbeAlnwoxKTobcul3NgRYUyK2Wad8R6GAzloCl=w80-h104-k-no'},\n",
              " {'position': 20,\n",
              "  'title': 'Sasanti Restaurant',\n",
              "  'place_id': 'ChIJc8CWENteei4RKknAnH6ROCI',\n",
              "  'data_id': '0x2e7a5edb1096c073:0x2238917e9cc0492a',\n",
              "  'data_cid': '2465880768967100714',\n",
              "  'reviews_link': 'https://serpapi.com/search.json?data_id=0x2e7a5edb1096c073%3A0x2238917e9cc0492a&engine=google_maps_reviews&hl=id',\n",
              "  'photos_link': 'https://serpapi.com/search.json?data_id=0x2e7a5edb1096c073%3A0x2238917e9cc0492a&engine=google_maps_photos&hl=id',\n",
              "  'gps_coordinates': {'latitude': -7.741968999999999,\n",
              "   'longitude': 110.3735913},\n",
              "  'place_id_search': 'https://serpapi.com/search.json?data=%214m5%213m4%211s0x2e7a5edb1096c073%3A0x2238917e9cc0492a%218m2%213d-7.741968999999999%214d110.3735913&engine=google_maps&google_domain=google.com&hl=id&type=place',\n",
              "  'rating': 4.4,\n",
              "  'reviews': 1215,\n",
              "  'price': '$$$',\n",
              "  'type': 'Restoran Indonesia',\n",
              "  'address': 'Jl. Palagan Tentara Pelajar No.52, Panggung Sari, Sariharjo, Kec. Ngaglik, Kabupaten Sleman, Daerah Istimewa Yogyakarta 55582, Indonesia',\n",
              "  'open_state': 'Buka ⋅ Tutup pukul 22.00',\n",
              "  'hours': 'Buka ⋅ Tutup pukul 22.00',\n",
              "  'operating_hours': {'senin': '11.00–22.00',\n",
              "   'selasa': '11.00–22.00',\n",
              "   'rabu': '11.00–22.00',\n",
              "   'kamis': '11.00–22.00',\n",
              "   'jumat': '11.00–22.00',\n",
              "   'sabtu': '11.00–22.00',\n",
              "   'minggu': '11.00–22.00'},\n",
              "  'phone': '+62 858-6582-4575',\n",
              "  'website': 'https://linktr.ee/sasantirestaurant',\n",
              "  'service_options': {'makan_di_tempat': True,\n",
              "   'bawa_pulang': True,\n",
              "   'antar_tanpa_bertemu': True},\n",
              "  'thumbnail': 'https://lh5.googleusercontent.com/p/AF1QipOphNHTkGRmkD-T5ftMoaFSDVY02r4qISp6c4Cz=w138-h92-k-no'}]"
            ]
          },
          "metadata": {},
          "execution_count": 10
        }
      ]
    },
    {
      "cell_type": "markdown",
      "source": [
        "# ***RESTORAN PERTAMA (8 REVIEWS)***"
      ],
      "metadata": {
        "id": "HJPMFT6QknX2"
      }
    },
    {
      "cell_type": "code",
      "source": [
        "from serpapi import GoogleSearch\n",
        "\n",
        "params = {\n",
        "  \"api_key\": \"1d95a6cbd844ff01c843ece1c01eb0620772cc4540c8b681ee6875854564cb75\",\n",
        "  \"engine\": \"google_maps_reviews\",\n",
        "  \"data_id\": \"0x2e7a57f61c09cbc1:0x2b6a56c0fd7941e2\",\n",
        "  \"hl\": \"id\"\n",
        "}\n",
        "\n",
        "search = GoogleSearch(params)\n",
        "results = search.get_dict()\n",
        "reviews = results[\"reviews\"]\n",
        "\n",
        "title =results[\"place_info\"][\"title\"]\n",
        "print(title)\n",
        "for i in range(8):\n",
        "  rating = results[\"reviews\"][i][\"rating\"]\n",
        "  print(rating)\n",
        "  reviews = results[\"reviews\"][i][\"snippet\"]\n",
        "  print(reviews)"
      ],
      "metadata": {
        "colab": {
          "base_uri": "https://localhost:8080/"
        },
        "id": "zjFHHnuQi856",
        "outputId": "a1698dda-4b27-4b52-fd58-3972e3ffc5c8"
      },
      "execution_count": null,
      "outputs": [
        {
          "output_type": "stream",
          "name": "stdout",
          "text": [
            "https://serpapi.com/search\n",
            "The Tannoor Restaurant\n",
            "4.0\n",
            "Harus reservasi dulu H-1 ya. Admin via whatsapp fast response. Makanan otentik, rasanya sesuatu yang baru sih blm ada di jogja. Baru kali ini nyicip masakan based ingredientnya yogurt. Rekomended meals nya Nasi kebuli ya guys, 3/3⭐ rasanya cocok sama lidah indo. Untuk side dish nya mantu 3/3⭐. Daal juga rekomen dicicipin kalo mau nyoba sesuatu yang baru soalnya pake lentils. Untuk minuman wajib coba chai nya sih , minuman khas wilayah asia tengah dan middle east pake teh masala. Parkir tricky ya guys bisa parkir di penginapan depan resto atau di pinggir jalan. Tempatnya emang ga ada plank nya jadi kalo pertama kali kesana hati-hati kelewatan.\n",
            "5.0\n",
            "makanan enak, harga terjangkau dengan rasa makanan yang ciamik, tempatnya relatif kecil dan harus reservasi dulu\n",
            "5.0\n",
            "Citarasa makanan dan minuman sangat autentik khas Asia Selatan & Tengah. Sesuai dengan selera kami. Tempat yang sangat tepat untuk menjadi tujuan Wisata Kuliner di Jogja. 👍👍 MakNyuss, salam buat seluruh kru The Tannoor.\n",
            "5.0\n",
            "Reservasi dan order h-1. Menu favoriteku: aashak, lamb kofta dan doogh.\n",
            "4.0\n",
            "Tempatnya nyaman, makanannya enak, pelayanan ramah, hanya saja Sedikit lama dalam penyajiannya.\n",
            "5.0\n",
            "Autentik taste\n",
            "5.0\n",
            "(Diterjemahkan oleh Google) Saya tidak akrab dengan budaya makanan Aghan atau Asia Tengah, jadi saya sangat senang mengetahui bahwa ada restoran makanan Afghanistan/Asia Tengah di Jogja. Restorannya didesain unik dan pemiliknya sangat ramah. Piring berlapis indah dan mereka lezat. Anda harus melakukan reservasi terlebih dahulu. Sangat direkomendasikan (saya berkunjung beberapa waktu yang lalu tetapi lupa meninggalkan ulasan 😁) (Asli) I wasnt familiar w/ Aghan or Central Asian food culture, so I was thrilled to know that there is an Afghan/Central Asian food restaurant in Jogja. The restaurant is uniquely designed and the owner is super friendly. The dishes are beautifully plated and they're delish. You have to make a reservation in advance. Very recommended (I paid a visit a while ago but forgot to leave a review 😁)\n",
            "5.0\n",
            "(Diterjemahkan oleh Google) Saya memiliki pengalaman bersantap yang luar biasa di sini. Seorang teman baik saya merekomendasikan restoran ini kepada saya dan membawa saya ke sini. Setiap sesendok makanan mereka adalah hadiah untuk selera Anda. Saya pasti akan mengundang teman-teman saya untuk datang ke sini. (Asli) I had a great dining experience here. A good friend of mine recommended this restaurant to me and brought me here. Every spoonful of their food is a reward for your palate. I will definitely invite my friends to come here.\n"
          ]
        }
      ]
    },
    {
      "cell_type": "markdown",
      "source": [
        "# ***RESTORAN KEDUA (8 REVIEWS)***"
      ],
      "metadata": {
        "id": "V1KWg-2dlT2t"
      }
    },
    {
      "cell_type": "code",
      "source": [
        "from serpapi import GoogleSearch\n",
        "\n",
        "params = {\n",
        "  \"api_key\": \"1d95a6cbd844ff01c843ece1c01eb0620772cc4540c8b681ee6875854564cb75\",\n",
        "  \"engine\": \"google_maps_reviews\",\n",
        "  \"data_id\": \"0x2e7a57bd1a830c51:0x917adbfd1657973b\",\n",
        "  \"hl\": \"id\"\n",
        "}\n",
        "\n",
        "search = GoogleSearch(params)\n",
        "results = search.get_dict()\n",
        "reviews = results[\"reviews\"]\n",
        "\n",
        "title =results[\"place_info\"][\"title\"]\n",
        "print(title)\n",
        "for i in range(8):\n",
        "  rating = results[\"reviews\"][i][\"rating\"]\n",
        "  print(rating)\n",
        "  reviews = results[\"reviews\"][i][\"snippet\"]\n",
        "  print(reviews)"
      ],
      "metadata": {
        "colab": {
          "base_uri": "https://localhost:8080/"
        },
        "id": "U12ubGgwjxxz",
        "outputId": "bd0c5e3b-edf5-42c5-a4d9-a7a08f4e4ea7"
      },
      "execution_count": null,
      "outputs": [
        {
          "output_type": "stream",
          "name": "stdout",
          "text": [
            "https://serpapi.com/search\n",
            "Mediterranea Restaurant by Kamil\n",
            "4.0\n",
            "Ketika kesini sedang lumayan crowded tapi dalam 5 menit langsung dapat tempat duduk berenam. Pelayanan juga cepat. The star disini yang kami pesan pizzanya, kami pesan Quatro Formaggi dan satunya lupa tp full cheese, langsung habis saking enaknya. Kami pesan greek salad somehow dressingnya gak kerasa sama sekali. Entah memang itu signature nya atau lupa, akhirnya ditambah dressingnya dan tetep bland (i know salad dressing when i eat one). Dua kali salah serving. Terakhir pesan Carboanara making me feel like we're in Warmindo with a bit of posh touch. Would never order it again. Price wise ya sesuai lah dengan suasana yang ditawarkan. Ada store nya juga, hanya ngecek beberapa produk lebih mahal dari harga umum. Kalau breadnya terjangkau sekali dan bikin ngilerrrr juga jamnya\n",
            "5.0\n",
            "Tempat makan yang menurutku harganya lumayan lah tapi tetep banyak pembelinya. Karna disini menurutku ada harga ada rasa. Kalo weekend atau pas hari-hari libur menurutku mending reservasi dulu, takutnya ndak dapet tempat. Untuk parkiran mobil juga luas disebelah timur rumah makannya. 9.5/10 untuk makanannya dan 8.5/10 untuk tempatnya.\n",
            "4.0\n",
            "Salah satu tempat makan fancy yang laris manis di Jogja. Kalau mau ke sini pas weekend, ada baiknya reservasi dulu. Karna selalu full Dan sulit masuk tanpa reservasi. Untungnya kami datang di jam nanggung sekitar pukul 16.00 jadi bisa pakai meja reservasi orang sampai jam reservasi 18.30. Hahahaha. . Makanan yang dipesan : Spaghetti carbonara, oke Pizza (lupa pizza apa) topping ok, rotinya pas dingin lembek. Biasa kan enggak ya. Beef burger, enak banget. Ga oily, ga sapi banget, enak!! Rotinya juga enak banget!! . Minum : lime iced, pada umumnya Tea pot, bisa buat berdua Dan di kasi gula, okelah . Oh ya ada semacem mini store gitu yang jual bahan2 italian food. Mayan lengkap, mantap!\n",
            "5.0\n",
            "Resto wajib didatangi kalau lagi di Jogja. Terkenal akan menu bebeknya. Better reserve dulu sebelum datang. Gileee enak bener bebek + potato gratinnya. Rasa keju nya wowwwww! Kue choco lava melted+ ice creamnya juga enak banget ♥️. Ada croissant juga dengan harga yang terjangkau dan minimarket kecil yang jual makanan n minuman + bumbu asli indonesia + impor. Makan sebanyak ini, habis 250k aja dong!\n",
            "5.0\n",
            "Enak semuanyaa huaaaa paling pecah sih yg apple pie karena manisnya pas gak bikin eneg. Caesar saladnya gedhe bgt aku kurang suka, karena kita makan cuman berdua jadi pasti sisa dan rasa saladnya B aja nothing spesial. Kalau soal makanan enak semua aku suka, thank u chef. Hospitality nya nice, pelayannya peka dan ramah, pokoknya kalau ke jogja aku mau mampir kesini lagi!\n",
            "4.0\n",
            "Katanya wajib coba makan disini, salah satu resto hits. Pas datang gak terlalu ngantri, udah ada meja kosong dan dibatasin waktu makannya. Sejujurnya interiornya biasa aja, gak yang bagus banget. Menurutku makanannya enak tapi yang enak biasa aja, gak yang enak banget kayak kata orang-orang. Kalau ditanya bakalan balik lagi atau gak, jawabannya enggak karena cukup tau aka rasa dan situasinya, terus gak ada juga hal yang bikin harus balik lagi kesini. Tapi kalau penasaran sama rasa dan tempatnya, bisa dicoba dateng kesini. Oh iya salah satu point plusnya di kamar mandi, bersih banget 🏻.\n",
            "5.0\n",
            "Recomended buat pecinta makanan western, enak bgt. Asli. Pelayanan jg bagus, ramah, sesuai req. Kalau malem antri padat merayap sampe waiting list. But rekomended bgt kok. Kekurangannya cm parkiran sempit aja sih hehe.\n",
            "5.0\n",
            "1. makanannya cukup enak terutama burger dengan olive fruit dan roti rotinya juga well baked 2. untuk menu utama disarankan datang di atas jam 11, karena sebelum jam 11 tungkunya belum panas, sehingga hanya menyediakan menu breakfast. 3. parkir tidak terlalu luas hanya bisa sekitar 3-4 mobil tetapi masih bisa delivery. 4. kamar mandi cukup nyaman dan luas 5. ada mini market yang menyediakan berbagai jenis makanan.\n"
          ]
        }
      ]
    },
    {
      "cell_type": "markdown",
      "source": [
        "# ***RESTORAN KETIGA (8 REVIEWS)***"
      ],
      "metadata": {
        "id": "-Px1GeTzl1Bg"
      }
    },
    {
      "cell_type": "code",
      "source": [
        "from serpapi import GoogleSearch\n",
        "\n",
        "params = {\n",
        "  \"api_key\": \"1d95a6cbd844ff01c843ece1c01eb0620772cc4540c8b681ee6875854564cb75\",\n",
        "  \"engine\": \"google_maps_reviews\",\n",
        "  \"data_id\": \"0x2e7a584847d2350b:0xa590f50c7750fe5f\",\n",
        "  \"hl\": \"id\"\n",
        "}\n",
        "\n",
        "search = GoogleSearch(params)\n",
        "results = search.get_dict()\n",
        "reviews = results[\"reviews\"]\n",
        "\n",
        "title =results[\"place_info\"][\"title\"]\n",
        "print(title)\n",
        "for i in range(8):\n",
        "  rating = results[\"reviews\"][i][\"rating\"]\n",
        "  print(rating)\n",
        "  reviews = results[\"reviews\"][i][\"snippet\"]\n",
        "  print(reviews)"
      ],
      "metadata": {
        "colab": {
          "base_uri": "https://localhost:8080/"
        },
        "id": "mkoxttrUl1og",
        "outputId": "5bc91ed2-7937-40d5-85b0-8fbb9abfd5f7"
      },
      "execution_count": null,
      "outputs": [
        {
          "output_type": "stream",
          "name": "stdout",
          "text": [
            "https://serpapi.com/search\n",
            "Kayu Manis Restaurant\n",
            "5.0\n",
            "Ke sini saat acara buka bersama di bulan Ramadan kemarin. Menu makanannya lengkap banget. Untuk harga 200 ribuan (all you can eat) terhitung pas sama fasilitas dan juga aneka menunya. Semua menunya enak dan suasana nyaman.\n",
            "4.0\n",
            "Ada di deket kolam renang, dari lobby turun satu lantai. Menunya banyak, bisa pilih yang disuka. Juice ada mango. Ada sushi. Ada ice cream tolak angin, rasanya beneran tolak angin, cobain, tapi ambil dikit aja jangan terlalu banyak.\n",
            "5.0\n",
            "Pengalaman buka puasa di Hotel Tentrem ini sangat tidak terlupakan karena menunya lengkap dan banyak, pelayanannya bagus, tempatnya lega dan spektakuler. Keluarga saya selalu berbuka puasa disini sejak pertama kali dilaksanakan sekitar Tahun 2013-2014, kami sekeluarga tidak pernah absen utk buka puasa disini kecuali Bulan Ramadhan 2020 karena pandemi Covid-19. Dan buka puasa tahun 2021 ini dgn menerapkan prokes ketat seperti pembatasan jumlah orang, pembagian waktu dalam 2 sesi dan penerapan masker serta penyediaan hand sanitizer/cuci tangan di beberapa tempat Sukses selalu untuk Kayu Manis Hotel Tentrem Yogyakarta\n",
            "5.0\n",
            "Berlokasi di tentrem hotel, live music, boleh merokok dan pilihan menunya beragam.\n",
            "4.0\n",
            "Soto Ayamnya juaraakk\n",
            "5.0\n",
            "Menu variatif. Ada menu indonesian, western, italian, asean. Harga masih worth it utk resto di hotel bintang 5.\n",
            "5.0\n",
            "Kesini untuk sarapan. Makanan dan minumannya bervariasi. Paling suka dengan sushi dan jamu-jamunya.\n",
            "5.0\n",
            "bersih, wango, pelayanan ramah, nyaman karena bintang 5, harga jelas mahal sesuai dgn fasilitas yg diberikan\n"
          ]
        }
      ]
    },
    {
      "cell_type": "markdown",
      "source": [
        "# ***RESTORAN KEEMPAT (8 REVIEWS)***"
      ],
      "metadata": {
        "id": "ZV9B2kfxmRUL"
      }
    },
    {
      "cell_type": "code",
      "source": [
        "from serpapi import GoogleSearch\n",
        "\n",
        "params = {\n",
        "  \"api_key\": \"1d95a6cbd844ff01c843ece1c01eb0620772cc4540c8b681ee6875854564cb75\",\n",
        "  \"engine\": \"google_maps_reviews\",\n",
        "  \"data_id\": \"0x2e7a57bdbddd5d99:0xe19d896da9b1e5fd\",\n",
        "  \"hl\": \"id\"\n",
        "}\n",
        "\n",
        "search = GoogleSearch(params)\n",
        "results = search.get_dict()\n",
        "reviews = results[\"reviews\"]\n",
        "\n",
        "title =results[\"place_info\"][\"title\"]\n",
        "print(title)\n",
        "for i in range(8):\n",
        "  rating = results[\"reviews\"][i][\"rating\"]\n",
        "  print(rating)\n",
        "  reviews = results[\"reviews\"][i][\"snippet\"]\n",
        "  print(reviews)"
      ],
      "metadata": {
        "colab": {
          "base_uri": "https://localhost:8080/"
        },
        "id": "lGX-a1EcmlVN",
        "outputId": "bf2a76e1-aee2-4a97-b804-d17695d67b6b"
      },
      "execution_count": null,
      "outputs": [
        {
          "output_type": "stream",
          "name": "stdout",
          "text": [
            "https://serpapi.com/search\n",
            "Nanamia Pizzeria\n",
            "3.0\n",
            "Sorry 3 dari 5. Tempat comfy, parkir untuk mobil ga terlalu luas, tersedia mushola sama kamar mandi. Pelayanannya ramah. Tempatnya tetep sejuk kalopun siang bolong. Sedikit pricy tempatnya, pizzanya oke, mungkin karena oven kayu jdi hasil strching-annya jdi mleyot2. Pastanya juga enak, oke banget. Ada bar juga, jdi bisa pesen alkohol dan semacamnya. Yang bikin bintang 3 karena Melon Smoothies yang saya pesan, benar2 rasanya aneh dan tidak enak, dan 2 rekan saya mengatakan hal yang sama. Juga karena rekan saya memesan Banana Smoothies dan cukup enak, maka saya rasa ada yang salah dalam melon smoothies saya. Dan sudah saya komplain melalui Whatsapp. Semoga kedepannya jadi perhatian.\n",
            "5.0\n",
            "cocok banget buat makan sama keluarga. spacenya ada yang di dalem dan di luar. yang di luar menurutku lebih nyaman karena banyak pohon dan kena angin sepoi-sepoi walaupun tempat yang di luar nggak smoke free. harga standart dan sepadan sama rasanya. porsinya nggak pelit. keluargaku suka sama semua makanan yang kami pesan. lega banget aku ga salah rekomen tempat😂. servicenya juga bagus. waitress, kasir, dan tukang parkir melayani dengan ramah dan bener-bener mastiin kenyamanan pelanggan. di sini ada toilet dan musola yang bersih banget walau musolanya agak sempit. jadi ga perlu khawatir kalau ke sini pas waktu solat. overall makan di nanamia was a pleasant experience. seneng liat keluarga keluar resto dengan happy hehe😆\n",
            "4.0\n",
            "Yang paling aku suka adalah komitmennya untuk berusaha Go Green / zero waste, contohnya tidak menyediakan air mineral botolan, sebagai gantinya air mineral disajikan dengan botol kaca.. Lalu hanya memberikan sedotan jika kita minta, dan itupun sedotan stainless steel.. Bagus banget deh! ;) Parkir free.. asyik banget kan.. Lalu untuk rasa makanan dari dulu enak sih, sampe sekarang tetep enak 🤤 Ada pizza versi anak².. ukuran pizza tetep besar, tapi toppingnya lucu, jadi anak² suka.. Cobain tiramisu-nya deh, bikin gagal move on (⁠ᗒ⁠ᗩ⁠ᗕ⁠) Ada balok² untuk main anak².. biar nggak bosan ʘ⁠‿⁠ʘ Oiya, pelayanannya bagus banget. Kru nya ramah, sopan, dan gercep. Dan, yg jelas Instagramable sekali yaaa.. (⁠ʘ⁠ᴗ⁠ʘ⁠✿⁠)\n",
            "4.0\n",
            "Baru pertama kali kesini jd ini murni first impression. Lokasi: *** agak tersembunyi, jd lebih enak pake ojol langsung dianter sampai tempat. Jalannya satu arah. Makanan: *** Honestly kurang cocok untuk lidah pribadi (subjectif), lebih banyak topping keju daripada topping yg lain. Kejunya terasa creammy. Dough nya identik dengan pizza seperti panties pizza or semacamnya, tdk seperti pizza hit or pararon. Drinks: ** Rasa ok, hanya porsi kurang memuaskan. Hampir semua pakai gelas kecil. Pesen cola float, dikasihnya pakai gelas kaca seperti gelas minum teh. Dengan harga yg tertera jadi kurang puas. Suasana: **** Nyaman seperti didalam rumah karena memang didalam rumah/ atau hotel lupa. Belakang ada taman untuk anak lari2. Harga: *** Standar pizza di jogja. Will come back: Maybe kalau keluarga pengen lagi, but personally lidah kurang cocok disini. Pilihan menu vegetarian: Vegetarian pizza Kesesuaian untuk anak-anak: Garden\n",
            "2.0\n",
            "Tempatnya ternyata cukup luas dan semi outdoor. Aku pesan insalata rucola (37k) dengan Italian dressing. Cuma semangkuk greens dengan beberapa potongan tomat ceri dan serutan keju parmesan. Rasanya sesedih penampakannya sih 😂 Gak mengenyangkan. Dikasih beberapa potong roti putih juga yang polos. Aku pesan spaghetti bolognese (44k) tapi baru keluar 1 jam kemudian, padahal di awal dibilang makanannya will take like 20 minutes but I waited 3 times longer than that… Alasannya sih karena lagi ramai, kalau udah tau kayak gitu mendingan ga usah janji-janji di awal. Saus dagingnya cukup enak. Untuk dessert aku pesen Dolce Vita Cioccolato (32k). Cuma kue coklat dengan es krim vanila. Manis banget. Overall sih standard experience and standard food. Cukup sekali aja ke sini.\n",
            "5.0\n",
            "Lokasinya tidak terlihat besar dari jalan raya. Sedikit masuk ke dalam dan area parkirnya tidak di depan restaurant persis. Kadang harus di seberang jalan ketika penuh. Namun, saat sudah masuk ke dalam, suasananya langsung berubah. Tempatnya luas dan banyak tanaman hijau di dalamnya. Hal ini yang membuat spesial di tempat ini. Tetap sejuk meskipun cuaca sedang panas. Makanannya mungkin sudah di sesuaikan dengan orang Indonesia, tapi tetap saja enak di lidah saya. Rekomendasi buat teman-teman yang pengen makan makanan Italia. Hargannya juga sebanding dengan rasa yang ditawarkan. Satu lagi yang menurut saya sangat warm rasanya adalah hot cappucino. Ada rasa cinnamon di dalamnya yang memberi kesan hangat.\n",
            "5.0\n",
            "Resto pizza yang nyaman, ada ruang terbuka yang banyak angin, hijau, banyak tanaman. Tempatnya santai, enak banget buat ngobrol. Semua pilihan topping pizzanya enak. Adonan tepung pizzanya juga gak terlalu tebal dan ntuk pinggiran, favorite saya yg tipis dan crispy. Semua tim resto sangat ketat menjaga protocol kesehata. Mulai dari parkiran sudah diingatkan untuk cuci tangan dan pakai masker. Akan selalu mampir setiap ke Yogya. ❤️\n",
            "5.0\n",
            "Tempat yang menarik untuk mencicipi Italian cuisine. Jika datang menggunakan motor, tempat parkirnya agak kedalam. Jalannya agak kecil, jadi hati-hati saat traffic lalu lintasnya padat. Ada tempat indoor dan outdoor. Reservasi lebih dahulu lebih baik karena cukup ramai meski bukan weekend. Penamaan menunya dengan bahasa asing, jadi sebaiknya sambil melihat menu yang bergambar untuk mendapat gambaran. Beberapa menu rasanya mungkin masih asing dengan lidah orang Indonesia, jadi memilih pizza atau pasta akan lebih aman.\n"
          ]
        }
      ]
    },
    {
      "cell_type": "markdown",
      "source": [
        "# ***RESTORAN KELIMA (8 REVIEWS)***"
      ],
      "metadata": {
        "id": "PNs0DPeEmRc1"
      }
    },
    {
      "cell_type": "code",
      "source": [
        "from serpapi import GoogleSearch\n",
        "\n",
        "params = {\n",
        "  \"api_key\": \"1d95a6cbd844ff01c843ece1c01eb0620772cc4540c8b681ee6875854564cb75\",\n",
        "  \"engine\": \"google_maps_reviews\",\n",
        "  \"data_id\": \"0x2e7a59e87aae1f03:0x1678b0e3de78f9f\",\n",
        "  \"hl\": \"id\"\n",
        "}\n",
        "\n",
        "search = GoogleSearch(params)\n",
        "results = search.get_dict()\n",
        "reviews = results[\"reviews\"]\n",
        "\n",
        "title =results[\"place_info\"][\"title\"]\n",
        "print(title)\n",
        "for i in range(8):\n",
        "  rating = results[\"reviews\"][i][\"rating\"]\n",
        "  print(rating)\n",
        "  reviews = results[\"reviews\"][i][\"snippet\"]\n",
        "  print(reviews)"
      ],
      "metadata": {
        "colab": {
          "base_uri": "https://localhost:8080/"
        },
        "id": "blDcc52jmsh0",
        "outputId": "daa867f7-ceb0-4c7c-fb07-19ba6b9729ca"
      },
      "execution_count": null,
      "outputs": [
        {
          "output_type": "stream",
          "name": "stdout",
          "text": [
            "https://serpapi.com/search\n",
            "SamaZana Restaurant\n",
            "5.0\n",
            "Kita kesini karena acara graduation anak, ga nyangka, enakkkkkkkkk buangetttttt makanannyaaa!!! Dari Bakso, Makanan Tengahnya trus Saladnya, enakkk semuaaa👍👍👍👍 Puasss bangett ga nyangka klo seenak iniii sampe kepengen ulangin buffe lagi disini, tp krn pandemi sptnya buffe ditiadakan, huhuhu maafkan yaaaa Klo bsk ada buffe bole info info @Royal Ambarukmo please!😍😍\n",
            "5.0\n",
            "Da best lah... Lokasi ok, deket pool, ruang luas, duduknya berjarak (prokes pokoknya) Menu makanannya....nah ink wenakk tenan Beef bbq & slow cook nya very recommended, dimsum juga uokehhh Recommended dah pokoknya, utk acara kluarga &/ kumpul² cocok\n",
            "3.0\n",
            "Pilihan menu iftar sangat banyak dan bervariasi. Sebagian menu makanan enak. Namun beberapa cita rasanya kurang, beberapa menu seperti ramen dan mie ayam keasinan dan tidak sesuai harapan, untuk masakan ikan aroma khas ikan belum hilang. Sehingga untuk sekelas royal ambarrukmo dan di kelas harganya, experience iftarnya kurang berkesan.\n",
            "5.0\n",
            "pelayanannya 10/10, makanannya 10/10, kebersihan dan tempatnya pun joss banget!! cocok buat acara formal atau lunch dinner gituu! pokoknya worth it. + staff nya super duper ramah mau bantu surprise ultah dengan senang hati, love samazana\n",
            "5.0\n",
            "Very delicious bbq & slow cook meatsIf youre meat lover this place auce is very recommended...Menu lain juga enak...dimsumnya wajib dicobaLokasi luas & nyaman\n",
            "5.0\n",
            "Breakfast experience di Samazana Resto super lengkap menunya. Hidangannya enak, pelayanan ramah dan suasana tempat nyaman untuk bersama keluarga apalagi anak-anak karena luas . Kita bisa lihat langsung chef saat memasak hidangan kita lohh. Recommend banget\n",
            "5.0\n",
            "Pelayanannya sangat memuaskan, untuk rasa makanan juga cukup oke.\n",
            "5.0\n",
            "Suka banget secara keseluruhan! Baru kali ini makan di restaurant dijogja dengan design yang mewah tapi harganya masih terjangkau dan makanan ala mediterranean asia yang juga enak rasanya! Paket lengkap disini juga instagramable, bikin makin betah buat terus balik jadi alternatif lunch maupun dinner bareng temen, pacar atau keluarga. Really worth to try!\n"
          ]
        }
      ]
    },
    {
      "cell_type": "markdown",
      "source": [
        "# ***RESTORAN KEENAM (8 REVIEWS)***"
      ],
      "metadata": {
        "id": "VEj6AK-0mRkk"
      }
    },
    {
      "cell_type": "code",
      "source": [
        "from serpapi import GoogleSearch\n",
        "\n",
        "params = {\n",
        "  \"api_key\": \"1d95a6cbd844ff01c843ece1c01eb0620772cc4540c8b681ee6875854564cb75\",\n",
        "  \"engine\": \"google_maps_reviews\",\n",
        "  \"data_id\": \"0x2e7a57148dbdea93:0xcef98f3ed56e71ca\",\n",
        "  \"hl\": \"id\"\n",
        "}\n",
        "\n",
        "search = GoogleSearch(params)\n",
        "results = search.get_dict()\n",
        "reviews = results[\"reviews\"]\n",
        "\n",
        "title =results[\"place_info\"][\"title\"]\n",
        "print(title)\n",
        "for i in range(8):\n",
        "  rating = results[\"reviews\"][i][\"rating\"]\n",
        "  print(rating)\n",
        "  reviews = results[\"reviews\"][i][\"snippet\"]\n",
        "  print(reviews)"
      ],
      "metadata": {
        "colab": {
          "base_uri": "https://localhost:8080/"
        },
        "id": "M6hhoqXhmtc-",
        "outputId": "7f5724fc-21cb-4b94-e7f1-1ba42849100f"
      },
      "execution_count": null,
      "outputs": [
        {
          "output_type": "stream",
          "name": "stdout",
          "text": [
            "https://serpapi.com/search\n",
            "City Grill - Eastern Mediterranean Restaurant\n",
            "5.0\n",
            "Masakannya enak. Porsinya lumayan ini. Sy pesan mahi2 steak (steak ikannya enak), souvlaki (sate ayam dan sapinya mantap) - bisa request mix dagingnya. Juga pesan cevapcici. Ini sosis sapi dan babi, boleh mix juga. Rasanya juga enak. Ketika datang, kita dapat welcome drink air mineral. Di sini ada menu vegan juga yang bisa kita request. Kalau datang rombongan dengan banyak mobil, bakal agak susah parkirnya. Kalau mau book, bisa kontak dari nomor hang ada di instagram mereka: citygrill_jogja\n",
            "5.0\n",
            "Eh, nemu tempat baru. Sejak punya anak, km emang agak menghindari makan d area sini krn terkesan cafe remang2 dgn iklan bir terpampang. Tp City Grill patut dicoba. Tampilan luar bersih, area non smoking luas dan terang. Menunya seru2! Perlu bbrp x re-visit utk eksplore smuanya. Begitu mbaca Tzatsiki, langsung : aha! pasti ada Souvlaki! Ah tp sayangnya breadnya bukan lembaran. Coba kalau disajikan ala kebab, trus customer bs gulung sendiri, lbh asik tuh.\n",
            "5.0\n",
            "Smua menu yg kami pesan taste nya. Mantab skalii 👍👍. Ditambah dg pegawai dan owner nya yg sangat ramah dan menjelaskan dg detail ttg makanan yg kmi tanyakan dan yg akan kmi santap. Welll welll wellll…Sukses dg CITY GRILL MEDITERRANEAN… 👍👍 🌷🌷🌷\n",
            "5.0\n",
            "pengalaman baru makan steak dengan condiment mediteranian begini. pake pita bread. mushroom sauce nya enak. tempatnya lumayan oke.\n",
            "5.0\n",
            "Makanannya enak\" apalagi meat plater nya so pasti nikmat apalagi waiters yang pasti nya ramah\" banget sooo jangan lupa mampir ke city grill Jogja\n",
            "5.0\n",
            "Enak makanannya🤤. Pelayanannya ramah, rekomend banget bagi kalian yang nyari makanan Eropa timur. Nuansanya enak banget deh gak nyesel👍👍👍\n",
            "5.0\n",
            "Tempatnya bagus... Dan berada di pinggiran deretan cafe ² disitu, jadi enak, sepi\n",
            "5.0\n",
            "Sangat lezat, bisa jadi tempat favorit nih, cocok sih tempat nya untuk makan bersama keluarga\n"
          ]
        }
      ]
    },
    {
      "cell_type": "markdown",
      "source": [
        "# ***RESTORAN KETUJUH (8 REVIEWS)***"
      ],
      "metadata": {
        "id": "-Wc8ZXzemaUR"
      }
    },
    {
      "cell_type": "code",
      "source": [
        "from serpapi import GoogleSearch\n",
        "\n",
        "params = {\n",
        "  \"api_key\": \"1d95a6cbd844ff01c843ece1c01eb0620772cc4540c8b681ee6875854564cb75\",\n",
        "  \"engine\": \"google_maps_reviews\",\n",
        "  \"data_id\": \"0x2e7a5edb1096c073:0x2238917e9cc0492a\",\n",
        "  \"hl\": \"id\"\n",
        "}\n",
        "\n",
        "search = GoogleSearch(params)\n",
        "results = search.get_dict()\n",
        "reviews = results[\"reviews\"]\n",
        "\n",
        "title =results[\"place_info\"][\"title\"]\n",
        "print(title)\n",
        "for i in range(8):\n",
        "  rating = results[\"reviews\"][i][\"rating\"]\n",
        "  print(rating)\n",
        "  reviews = results[\"reviews\"][i][\"snippet\"]\n",
        "  print(reviews)"
      ],
      "metadata": {
        "colab": {
          "base_uri": "https://localhost:8080/"
        },
        "id": "qmu2ZcVomuSt",
        "outputId": "c33ce85c-8f4d-4d0b-a389-ffbb8cb6a32a"
      },
      "execution_count": null,
      "outputs": [
        {
          "output_type": "stream",
          "name": "stdout",
          "text": [
            "https://serpapi.com/search\n",
            "Sasanti Restaurant\n",
            "3.0\n",
            "Ambience nya sangat bagus, kesan elegan, rapi, resik dan tertata, parkir lumayan luas, ruang makan beragam, outdoor, ada 3 ruangan meeting yang cukup menampung 10 sampai 40 an peserta, menu favorit ada nasi campur nusantara dan nasi campur sasanti isinya sate daging, ikan, ayam, udang dan sayur daun pepaya, rasa so n so saja, tapi dapat suasana lah, harga sepadan...\n",
            "4.0\n",
            "Tempatnya cukup cocok untuk acara keluarga atau untuk fine-dining sama doi. Vibenya juga nyaman, masakan asian cuisine dan rasanya enak,kopinya jg enak. But,tempat ini kurang asik kalau kamu datang sendirian. Salute!\n",
            "4.0\n",
            "Restaurant nuansa jawa modern menyajikan masakan indonesia dan internasional. Dari segi pelayanan parkir, petugasnya cekatan. Interior juga cozy banget dan elegan. Harga menurutku sih standart ya. Hanya saja pesan salad yang seharusnya dimakan sebelum main course tapi disajikannya setelah maincourse dan lumayan lama sih. Keseluruhan sih oklah. Menurutku yg perlu diperbaiki hanya untuk servingnya. Kalau pelayanan dari waiternya sudah cukup cekatan apalagi saat clean up, tanpa harus dikode sudah langsung clean up saat tamu selesai makan.\n",
            "5.0\n",
            "A fusion of Javanese Heritage with Trending Coffeeshop Service and management yang OK Outdoor Tropical with Bali vibes . Ambiance rasa ga di Jogja Makanan & minumannya OK Service-nya bagus . Recommend dateng buat Breakfast ato Tea time hour Dinner juga kayanya bakalan enak Ada Aircon VIP Area yang great for Meetings\n",
            "5.0\n",
            "Makanan pembuka, hingga dessert nya enak parah sih ini tempat... Wajib jenengan podo try.\n",
            "3.0\n",
            "Coba pertama kali makan disini kesan untuk tempatnya bagus, nyaman dan adem. Sebetulnya untuk cita rasanya enak cuman sayang pelayanannya sangat lama, makanan yang harus dimakan saat panas seperti sate dan steak disajikan dalam keadaan dingin membuat selera makan jadi mandek, makanan datangnya sebagian sebagian sudah lama nunggu masih harus tunggu, padahal untuk kelas resto seperti ini dengan harga yang mahal seharusnya pelayanannya juga harus PRIMA/MANTAP semoga bisa dibenahi lagi kedepannya.\n",
            "5.0\n",
            "Restaurant paling nikmat masakannya di Jogja. Persis sebelum hyatt. Menunya tidak pernah asa yang fail. Tempatnya juga adem. Pelayanan ramah ok\n",
            "3.0\n",
            "Tempatnya spesial dan eksklusif. Harga dan layanannya sebanding. Variasi menunya juga banyak, tp untuk rasa masih agak kurang pas di lidahku (maklum lidah kuliner kaki lima 😁), kuah sop buntutnya agak hambar/kurang terasa rempahnya, udang bakarnya plain saja dan terasi ca kangkungnya serasa nempel di mulut terus aromanya. Utk sambel-sambelnya asli mantaapp 👍\n"
          ]
        }
      ]
    },
    {
      "cell_type": "markdown",
      "source": [
        "# ***RESTORAN KEDELAPAN (8 REVIEWS)***"
      ],
      "metadata": {
        "id": "rTXDtPxKmafH"
      }
    },
    {
      "cell_type": "code",
      "source": [
        "from serpapi import GoogleSearch\n",
        "\n",
        "params = {\n",
        "  \"api_key\": \"1d95a6cbd844ff01c843ece1c01eb0620772cc4540c8b681ee6875854564cb75\",\n",
        "  \"engine\": \"google_maps_reviews\",\n",
        "  \"data_id\": \"0x2e7a579b058c38a9:0xad597e602c685df0\",\n",
        "  \"hl\": \"id\"\n",
        "}\n",
        "\n",
        "search = GoogleSearch(params)\n",
        "results = search.get_dict()\n",
        "reviews = results[\"reviews\"]\n",
        "\n",
        "title =results[\"place_info\"][\"title\"]\n",
        "print(title)\n",
        "for i in range(8):\n",
        "  rating = results[\"reviews\"][i][\"rating\"]\n",
        "  print(rating)\n",
        "  reviews = results[\"reviews\"][i][\"snippet\"]\n",
        "  print(reviews)"
      ],
      "metadata": {
        "colab": {
          "base_uri": "https://localhost:8080/"
        },
        "id": "1idVL7qemvBQ",
        "outputId": "6fcc10d6-6297-4a93-8d26-93c3b4e6b719"
      },
      "execution_count": null,
      "outputs": [
        {
          "output_type": "stream",
          "name": "stdout",
          "text": [
            "https://serpapi.com/search\n",
            "Restoran Gazebo Garden\n",
            "5.0\n",
            "Bagus. Untuk makan enak suasananya. Ada pertunjukan ramayana ballet. Jos banget seru..\n",
            "4.0\n",
            "Tmpt nya lumayan, akan tetapi lebih baik pelayanya lebih cekatan dn bersih, luamayan untuk makanan nya\n",
            "5.0\n",
            "Tempatnya cukup besar untuk acara makan malam dengan kapasitas 500 orang dengan konsep outdoor, ada ballroomnya juga\n",
            "4.0\n",
            "Tempat cukup luas, dengan pendopo dan tamannya Bagus untuk garden party\n",
            "4.0\n",
            "Makanannya lumayan enak, tempat teduh dan bersih\n",
            "5.0\n",
            "Tempat mantap dan keren buat acara2 apalagi acara buka bersama\n",
            "4.0\n",
            "Lumayan lah makanannya bubur sum2 nya enak kok. Cuma gak sempat foto foto tadi . Udah capek banget . Parkiran luas ada mushalla nya , Ada garden view for dining kalo ada event untuk wedding cocok juga. Recommend deh buat acara-acara besar gitu\n",
            "4.0\n",
            "Pesta pernikahan di ruang terbuka, cukup meriah....\n"
          ]
        }
      ]
    },
    {
      "cell_type": "markdown",
      "source": [
        "# ***RESTORAN KESEMBILAN (8 REVIEWS)***"
      ],
      "metadata": {
        "id": "VfH0M8xQmavF"
      }
    },
    {
      "cell_type": "code",
      "source": [
        "from serpapi import GoogleSearch\n",
        "\n",
        "params = {\n",
        "  \"api_key\": \"1d95a6cbd844ff01c843ece1c01eb0620772cc4540c8b681ee6875854564cb75\",\n",
        "  \"engine\": \"google_maps_reviews\",\n",
        "  \"data_id\": \"0x2e7a59a4c2cf31ff:0x192d59bcb411178a\",\n",
        "  \"hl\": \"id\"\n",
        "}\n",
        "\n",
        "search = GoogleSearch(params)\n",
        "results = search.get_dict()\n",
        "reviews = results[\"reviews\"]\n",
        "\n",
        "title =results[\"place_info\"][\"title\"]\n",
        "print(title)\n",
        "for i in range(8):\n",
        "  rating = results[\"reviews\"][i][\"rating\"]\n",
        "  print(rating)\n",
        "  reviews = results[\"reviews\"][i][\"snippet\"]\n",
        "  print(reviews)"
      ],
      "metadata": {
        "colab": {
          "base_uri": "https://localhost:8080/"
        },
        "id": "MqbRRQbNmv4g",
        "outputId": "b55b9cc4-dc61-4b16-e1b0-a3ae72456d43"
      },
      "execution_count": null,
      "outputs": [
        {
          "output_type": "stream",
          "name": "stdout",
          "text": [
            "https://serpapi.com/search\n",
            "Gadjah Wong Restaurant\n",
            "5.0\n",
            "Rasa sangat menawan hati. Restaurant dgn harga bintang 4 dengan rasa bintang 5+. Semoga menu chicken teriyaki kembali tersedia. Setiap tahun sebelum pandemi. Saya sll ke gadjah wong bersama sahabat. Tahun ini sedikit kecewa krn chicken teriyaki favorite saya tidak lagi tersedia di menu. Tapi norwegian salmon steak,tenderloin steak, duck with orange sauce utk rasa tetap juara. Pelayanan? The best lah\n",
            "5.0\n",
            "Jaman masih kuliah dulu, impian beberapa mahasiswa (termasuk saya) ya bisa makan di Gajah Wong. Namany mahasiswa ya memang cuma sebatas mimpi,,, Alhamdulillah setelah 17 th akhirnya bisa kesampaian nyicip,,, Saya coba masakan Italia Lasagna, tekstur pinggirnya crispy tp tengahnya lembut dengan balutan daging cincang dan keju mozarela,,, Enak,,, tp kyany lidah saya bakal lebih enak kalau ada saus hahahahah,,, Jus Mixed nanas, pisang, mangganya enak, tercampur rata tdk ada yg dominan,,, Tiramisunya juga enak tapi karena kondisi kenyang jadi kurang menikmati,, Suasananya enak, dapet bangetlah, pelayanan juga oke,,, Intinya memang Rego nggowo rupo,, untung gratisan wkwkwwwk\n",
            "4.0\n",
            "Untuk tempat menurut saya menarik, banyak lorong - lorong untuk ke meja makan sehingga lebih terasa private. Untuk menu makanan mulai dari indonesia, timur, hingga western. Untuk harga menurut saya worth it dengan yang disajikan. Dari semua masakan yang saya rasakan, saya suka dengan menu westernnya. Selain itu kalau anda kesini, jangan lupa untuk memesan mashed potato nya karna sangat moist. Pelayanan yang diberikan juga sangat baik, kudos Gadjah Wong! 😊\n",
            "5.0\n",
            "Tempatnya nyaman, service nya sangat baik, makanannya worth it 🙏🙏 ini saya pesan beef lasagna dan pasta ai fungi. N.B. ternyata setelah makan saya merasa pastanya terlalu asin untuk saya. Untuk lasagna sudah pas.\n",
            "3.0\n",
            "Nanya rekomendasi yg india direkomendasiin chicken currynya. Yah lumayan lah, ga sespesial itu juga, cuma rasanya vibrant bgt karna banyak varian saosnya dalam satu plating mulai dari yg manis kek srikaya, asam, sampai yg spicy. Trus liat di review katanya tiramisunya enak tapi di lidah saya agak hambar. Overall b aja sih di lidah saya. Vibenya terasa sekali jadulnya trus ada live music juga.\n",
            "4.0\n",
            "Resto fancy yang udah lama bgt ada di jogja sebelum mulai banyak resto dengan menu western food. Rasanya masih sama seperti dlu, perasaan sih ga ada yang beda. Cuma yang beda tempatnya sekarang yang dibuka areanya ga sebanyak dl. Inget dl ada area gamelan yang pas terakhir ke sana dah ditutup ga dipake. Paling favorit tuh menu tiramisunya, klo menu makanan sukanya yang half baby chicken, orange duck, indian kari sama lasagnanya enak juga. Dulu kalo ke sini suka dapet complimentary food gt kaya cheese stick cm skrg udh ga ada ya.\n",
            "5.0\n",
            "Tempatnya nyaman buat makan malam sambil ngobrol2 sm suami.. Quality time.. place.. and food\n",
            "4.0\n",
            "I think we should say it a fine dining restourant, music, place, lighting just fantastic. I order home spring chicken unfortunately the taste is so no good, i get a red bloody chicken, just order anything without chicken Restoran yang baik, suasana dan tempat yang bagus, rasa biasa saja, jangan pesan ayam\n"
          ]
        }
      ]
    },
    {
      "cell_type": "markdown",
      "source": [
        "# ***RESTORAN KESEPULUH (8 REVIEWS)***"
      ],
      "metadata": {
        "id": "DN-Vpb4Dmhq7"
      }
    },
    {
      "cell_type": "code",
      "source": [
        "from serpapi import GoogleSearch\n",
        "\n",
        "params = {\n",
        "  \"api_key\": \"1d95a6cbd844ff01c843ece1c01eb0620772cc4540c8b681ee6875854564cb75\",\n",
        "  \"engine\": \"google_maps_reviews\",\n",
        "  \"data_id\": \"0x2e7a5884c11dc483:0x46a2b119fcb720b5\",\n",
        "  \"hl\": \"id\"\n",
        "}\n",
        "\n",
        "search = GoogleSearch(params)\n",
        "results = search.get_dict()\n",
        "reviews = results[\"reviews\"]\n",
        "\n",
        "title =results[\"place_info\"][\"title\"]\n",
        "print(title)\n",
        "for i in range(8):\n",
        "  rating = results[\"reviews\"][i][\"rating\"]\n",
        "  print(rating)\n",
        "  reviews = results[\"reviews\"][i][\"snippet\"]\n",
        "  print(reviews)"
      ],
      "metadata": {
        "colab": {
          "base_uri": "https://localhost:8080/"
        },
        "id": "eRkZc2GvmwhR",
        "outputId": "73bdbe48-dcf5-4b69-cb90-f1466ebda701"
      },
      "execution_count": null,
      "outputs": [
        {
          "output_type": "stream",
          "name": "stdout",
          "text": [
            "https://serpapi.com/search\n",
            "The Westlake Resto\n",
            "5.0\n",
            "Masakannya enak, lumayan worth itu buat harga yang cukup menengah ke atas. Pelayanannya bagus, cuma kalau siang panas sekaliii. Naik bebek 25rb, bisa mancing juga tapi ikannya harus dilepas lagi, banyak gazebo, cocok untuk makan bersama keluarga. Menunya banyak, ada nasi merah juga. Sebelahan dengan Resort nya. Cuma yang agak ganggu itu lalatnya gaes, kalo makanan kita datang lalatnya langsung menyerbu, ada lilin tapi kurang berpengaruh. Tapi ga tau kalo yang dibagian meja meja ya banyak lalatnya enggak. Ada kamar mandi, mushola, playground kecil. Udang bakar madu 85k, Iga bakar 38k, menu lain ada Kepiting, bakmi, nasi goreng, capcay, dll.. Sesekali bolehlah kesini, selamat mencoba!\n",
            "5.0\n",
            "The Wastlake Resto, restoran yang nyaman dengan pelayanan sangat bagus. Saat tiba di lokasi, ada pelayan datang dan melayani pelanggan dengan memilihkan tempat duduk. Saat sudah di tempat duduk, akan ada pelayan yang memberikan menu. Makanan dan minuman yang disajikan cukup beragam. Harga yang ditawarkan memang agak mahal, tapi rasa yang diberikan tidak main-main. Overall makanan dan minuman rasanya enak dan nikmat, disajikan dengan dibungkus plastik sehingga kebersihan terjamin. Dari segi tempatnya sangat luas, banyak pilihan tempat duduk baik dengan kursi atau lesehan pada gazebo-gazebo yang mengelilingi danau. Pengunjung juga bisa memancing dari pinggir kolam dengan menyewa pancing dari pihak resto sebesar 25rb. Kalau dapet ikan, ikannya harus dilepas kembali ya hehe. Sangat rekomended 👍 Terima kasih 🙏\n",
            "5.0\n",
            "Restaurant family yang luas, menunya banyak, rasanya juga enak.Tempatnya bagus, ada danau bisa naik bebek / lake tour.Untuk naik bebek bayar Rp 25.000Mancing juga bisa, sewa pancingnya Rp 15.000\n",
            "4.0\n",
            "Restonya selalu ramai dikunjungi pengujung, selain resto ada hotel dan pemancingan juga, bisa untuk santai dan mancing di kolam, jika dapat ikan tidak bisa di bawa pulang 😁, untuk sewa alat pancing 20 rb/joran, tapi kalo bisa di tingkatkan lagi alat pancingnya di tambah reel biar bisa umpan di lempar ketengah kolam dan pengunjung bisa merasakan tarikan ikannya 😊, di resto ini terdapat banyak saung untuk makan, tempatnya nyaman dan enak untuk bersantai bersama keluarga, ada perahu angsa juga buat keliling danau 😁 Soal makanan semua masakan enak, tapi agak sedikit lama penyajiannya, sampai makanan sudah mau habis baru datang ikan gurame asam manisnya 😊, sambal terasinya mantappp dan makyosss pedas.....untuk ikan goreng keringnya lumayan garing dan enak, tahu telur asinnya enak, genjer dan kangkungnya enak, udang bakar madunya agak sedikit terlalu manis tapi rasa enak, cumi goreng tepungnya lumayan enak, semua masakannya lumayan enak, untuk harga masih terjangkau, untuk porsi lumayan banyak porsinya, resto ini cocok untuk bersantai bersama keluarga.\n",
            "4.0\n",
            "Untuk rasa sebenernya B aja ya tapi untuk kebersihan oke. Tempatnya bersih, rapi, toiletnya juga bersih. Cocok untuk acara keluarga atau qulity time dengan keluarga besar. Cocok juga buat yg hobi mancing krn disini boleh memancing namun ikan tidak boleh dibawa pulang\n",
            "4.0\n",
            "Resto sedia seafood dan makanan indo lain. Bisa mancing juga d sini, tapi ikannya wajib dilepas kembali. Tempat makannya saung2 gitu. Kalau banyakan better reservasi dulu. Rate harga nya agak mahal untuk rasa yang menurut saya biasa aja. Cuma memang view yang diberikan cukup menghibur. Ada space yg disewakan untuk event juga di sini. Parkiran luas. Ada resort juga di sebelahnya.\n",
            "5.0\n",
            "Tempatnya sangat luas banget, pemandangannya bagus juga. Pelayanannya sangat ramah. Selain tempat makan ada juga pemancingannya. Tempatnya dijaga banget kebersihannya, banyak pilihan buat makannya, ada yang duduk, ada juga yang berupa gazebo makan dipinggir sungai buatan. Parkirannya juga luas banget. Dan toiletnya sangat di jaga kebersihannya. ⭐⭐⭐⭐ Untuk makannya sangat enak menurut ku, apalagi gurame asam manisnya enak poll. Dan ada 1 sambal keknya sambal tomat gitu, seger banget dan lumayan pedes. Cocok banget dimakan sama gurame asam manisnya. Tapi tadi ada gurame madunya agak masih bau gitu, mungkin besok besok diperbaiki. ⭐⭐⭐⭐ Rekomended buat kalian yang cari tempat makan dengan konsep keluarga, kesini ajaa... Ajak teman atau keluarga buat nyobain kesini. ⭐⭐⭐⭐\n",
            "4.0\n",
            "tempat yang sejuk untuk menikmati makan bersama keluarga. ada lesehannya.olahan ikan gurami nya mantul. bisa sambil mancing catch and release ya. ikan yang dipancing besar besar. yang mau bakar kalori abis makan bisa pakai sepeda dayung di danau nya.\n"
          ]
        }
      ]
    },
    {
      "cell_type": "markdown",
      "source": [
        "# ***CASE FOLDING***"
      ],
      "metadata": {
        "id": "qHelyhKWwojR"
      }
    },
    {
      "cell_type": "markdown",
      "source": [
        "**UBAH TEXT KE LOWERCASE**"
      ],
      "metadata": {
        "id": "or0bcAX1w7Ig"
      }
    },
    {
      "cell_type": "code",
      "source": [
        "text = \"5.0 Masakannya enak, lumayan worth itu buat harga yang cukup menengah ke atas. Pelayanannya bagus, cuma kalau siang panas sekaliii. Naik bebek 25rb, bisa mancing juga tapi ikannya harus dilepas lagi, banyak gazebo, cocok untuk makan bersama keluarga. Menunya banyak, ada nasi merah juga. Sebelahan dengan Resort nya. Cuma yang agak ganggu itu lalatnya gaes, kalo makanan kita datang lalatnya langsung menyerbu, ada lilin tapi kurang berpengaruh. Tapi ga tau kalo yang dibagian meja meja ya banyak lalatnya enggak. Ada kamar mandi, mushola, playground kecil. Udang bakar madu 85k, Iga bakar 38k, menu lain ada Kepiting, bakmi, nasi goreng, capcay, dll.. Sesekali bolehlah kesini, selamat mencoba!\"\n",
        "lower_case = text.lower()\n",
        "print(lower_case)"
      ],
      "metadata": {
        "colab": {
          "base_uri": "https://localhost:8080/"
        },
        "id": "2GpFrS1Mw6uL",
        "outputId": "f174339d-845f-457c-e4b6-4bb1ac7f054a"
      },
      "execution_count": null,
      "outputs": [
        {
          "output_type": "stream",
          "name": "stdout",
          "text": [
            "5.0 masakannya enak, lumayan worth itu buat harga yang cukup menengah ke atas. pelayanannya bagus, cuma kalau siang panas sekaliii. naik bebek 25rb, bisa mancing juga tapi ikannya harus dilepas lagi, banyak gazebo, cocok untuk makan bersama keluarga. menunya banyak, ada nasi merah juga. sebelahan dengan resort nya. cuma yang agak ganggu itu lalatnya gaes, kalo makanan kita datang lalatnya langsung menyerbu, ada lilin tapi kurang berpengaruh. tapi ga tau kalo yang dibagian meja meja ya banyak lalatnya enggak. ada kamar mandi, mushola, playground kecil. udang bakar madu 85k, iga bakar 38k, menu lain ada kepiting, bakmi, nasi goreng, capcay, dll.. sesekali bolehlah kesini, selamat mencoba!\n"
          ]
        }
      ]
    },
    {
      "cell_type": "markdown",
      "source": [
        "**HAPUS ANGKA DALAM TEXT**"
      ],
      "metadata": {
        "id": "vb-Ek60CxQ3Y"
      }
    },
    {
      "cell_type": "code",
      "source": [
        "import re #Import Module Regular Expression\n",
        "text = \"5.0 Masakannya enak, lumayan worth itu buat harga yang cukup menengah ke atas. Pelayanannya bagus, cuma kalau siang panas sekaliii. Naik bebek 25rb, bisa mancing juga tapi ikannya harus dilepas lagi, banyak gazebo, cocok untuk makan bersama keluarga. Menunya banyak, ada nasi merah juga. Sebelahan dengan Resort nya. Cuma yang agak ganggu itu lalatnya gaes, kalo makanan kita datang lalatnya langsung menyerbu, ada lilin tapi kurang berpengaruh. Tapi ga tau kalo yang dibagian meja meja ya banyak lalatnya enggak. Ada kamar mandi, mushola, playground kecil. Udang bakar madu 85k, Iga bakar 38k, menu lain ada Kepiting, bakmi, nasi goreng, capcay, dll.. Sesekali bolehlah kesini, selamat mencoba!\"\n",
        "hasil = re.sub(r\"\\d+\",\"\", text)\n",
        "print (hasil)"
      ],
      "metadata": {
        "colab": {
          "base_uri": "https://localhost:8080/"
        },
        "id": "kgwWyBPyxV7s",
        "outputId": "0b958b01-f464-4556-9f1a-7797674bd244"
      },
      "execution_count": null,
      "outputs": [
        {
          "output_type": "stream",
          "name": "stdout",
          "text": [
            ". Masakannya enak, lumayan worth itu buat harga yang cukup menengah ke atas. Pelayanannya bagus, cuma kalau siang panas sekaliii. Naik bebek rb, bisa mancing juga tapi ikannya harus dilepas lagi, banyak gazebo, cocok untuk makan bersama keluarga. Menunya banyak, ada nasi merah juga. Sebelahan dengan Resort nya. Cuma yang agak ganggu itu lalatnya gaes, kalo makanan kita datang lalatnya langsung menyerbu, ada lilin tapi kurang berpengaruh. Tapi ga tau kalo yang dibagian meja meja ya banyak lalatnya enggak. Ada kamar mandi, mushola, playground kecil. Udang bakar madu k, Iga bakar k, menu lain ada Kepiting, bakmi, nasi goreng, capcay, dll.. Sesekali bolehlah kesini, selamat mencoba!\n"
          ]
        }
      ]
    },
    {
      "cell_type": "markdown",
      "source": [
        "**HAPUS TANDA BACA DALAM TEXT**"
      ],
      "metadata": {
        "id": "SqlghjtIxqnN"
      }
    },
    {
      "cell_type": "code",
      "source": [
        "import string\n",
        "text = \"5.0 Masakannya enak, lumayan worth itu buat harga yang cukup menengah ke atas. Pelayanannya bagus, cuma kalau siang panas sekaliii. Naik bebek 25rb, bisa mancing juga tapi ikannya harus dilepas lagi, banyak gazebo, cocok untuk makan bersama keluarga. Menunya banyak, ada nasi merah juga. Sebelahan dengan Resort nya. Cuma yang agak ganggu itu lalatnya gaes, kalo makanan kita datang lalatnya langsung menyerbu, ada lilin tapi kurang berpengaruh. Tapi ga tau kalo yang dibagian meja meja ya banyak lalatnya enggak. Ada kamar mandi, mushola, playground kecil. Udang bakar madu 85k, Iga bakar 38k, menu lain ada Kepiting, bakmi, nasi goreng, capcay, dll.. Sesekali bolehlah kesini, selamat mencoba!\"\n",
        "hasil = text.translate(str.maketrans(\"\",\"\",string.punctuation))\n",
        "print (hasil)"
      ],
      "metadata": {
        "colab": {
          "base_uri": "https://localhost:8080/"
        },
        "id": "Grr20owXxv73",
        "outputId": "0e465ed9-9205-425f-9c66-2805b13dd460"
      },
      "execution_count": null,
      "outputs": [
        {
          "output_type": "stream",
          "name": "stdout",
          "text": [
            "50 Masakannya enak lumayan worth itu buat harga yang cukup menengah ke atas Pelayanannya bagus cuma kalau siang panas sekaliii Naik bebek 25rb bisa mancing juga tapi ikannya harus dilepas lagi banyak gazebo cocok untuk makan bersama keluarga Menunya banyak ada nasi merah juga Sebelahan dengan Resort nya Cuma yang agak ganggu itu lalatnya gaes kalo makanan kita datang lalatnya langsung menyerbu ada lilin tapi kurang berpengaruh Tapi ga tau kalo yang dibagian meja meja ya banyak lalatnya enggak Ada kamar mandi mushola playground kecil Udang bakar madu 85k Iga bakar 38k menu lain ada Kepiting bakmi nasi goreng capcay dll Sesekali bolehlah kesini selamat mencoba\n"
          ]
        }
      ]
    },
    {
      "cell_type": "markdown",
      "source": [
        "# ***TOKENIZING***"
      ],
      "metadata": {
        "id": "ekhWKMDjyRgd"
      }
    },
    {
      "cell_type": "code",
      "source": [
        "import nltk\n",
        "nltk.download('book')\n",
        "nltk.download('tests')\n",
        "nltk.download('all-corpora') # tidak direkomendasikan untuk data besar."
      ],
      "metadata": {
        "id": "f588Lh5yyS7d"
      },
      "execution_count": null,
      "outputs": []
    },
    {
      "cell_type": "code",
      "source": [
        "# impor word_tokenize dari module nltk\n",
        "from nltk.tokenize import sent_tokenize, word_tokenize\n",
        "text = \"5.0 Masakannya enak, lumayan worth itu buat harga yang cukup menengah ke atas. Pelayanannya bagus, cuma kalau siang panas sekaliii. Naik bebek 25rb, bisa mancing juga tapi ikannya harus dilepas lagi, banyak gazebo, cocok untuk makan bersama keluarga. Menunya banyak, ada nasi merah juga. Sebelahan dengan Resort nya. Cuma yang agak ganggu itu lalatnya gaes, kalo makanan kita datang lalatnya langsung menyerbu, ada lilin tapi kurang berpengaruh. Tapi ga tau kalo yang dibagian meja meja ya banyak lalatnya enggak. Ada kamar mandi, mushola, playground kecil. Udang bakar madu 85k, Iga bakar 38k, menu lain ada Kepiting, bakmi, nasi goreng, capcay, dll.. Sesekali bolehlah kesini, selamat mencoba!\"\n",
        "tokens = word_tokenize(text)\n",
        "print(tokens)"
      ],
      "metadata": {
        "colab": {
          "base_uri": "https://localhost:8080/"
        },
        "id": "Ky5wvJezzI-l",
        "outputId": "8ae41fda-34a1-4ef6-aa09-5c6fd69bb961"
      },
      "execution_count": null,
      "outputs": [
        {
          "output_type": "stream",
          "name": "stdout",
          "text": [
            "['5.0', 'Masakannya', 'enak', ',', 'lumayan', 'worth', 'itu', 'buat', 'harga', 'yang', 'cukup', 'menengah', 'ke', 'atas', '.', 'Pelayanannya', 'bagus', ',', 'cuma', 'kalau', 'siang', 'panas', 'sekaliii', '.', 'Naik', 'bebek', '25rb', ',', 'bisa', 'mancing', 'juga', 'tapi', 'ikannya', 'harus', 'dilepas', 'lagi', ',', 'banyak', 'gazebo', ',', 'cocok', 'untuk', 'makan', 'bersama', 'keluarga', '.', 'Menunya', 'banyak', ',', 'ada', 'nasi', 'merah', 'juga', '.', 'Sebelahan', 'dengan', 'Resort', 'nya', '.', 'Cuma', 'yang', 'agak', 'ganggu', 'itu', 'lalatnya', 'gaes', ',', 'kalo', 'makanan', 'kita', 'datang', 'lalatnya', 'langsung', 'menyerbu', ',', 'ada', 'lilin', 'tapi', 'kurang', 'berpengaruh', '.', 'Tapi', 'ga', 'tau', 'kalo', 'yang', 'dibagian', 'meja', 'meja', 'ya', 'banyak', 'lalatnya', 'enggak', '.', 'Ada', 'kamar', 'mandi', ',', 'mushola', ',', 'playground', 'kecil', '.', 'Udang', 'bakar', 'madu', '85k', ',', 'Iga', 'bakar', '38k', ',', 'menu', 'lain', 'ada', 'Kepiting', ',', 'bakmi', ',', 'nasi', 'goreng', ',', 'capcay', ',', 'dll', '..', 'Sesekali', 'bolehlah', 'kesini', ',', 'selamat', 'mencoba', '!']\n"
          ]
        }
      ]
    },
    {
      "cell_type": "markdown",
      "source": [
        "# ***SASTRAWI, FILTERING (STOPWORD REMOVAL) & STEMMING***"
      ],
      "metadata": {
        "id": "0XY1iwukzwYp"
      }
    },
    {
      "cell_type": "markdown",
      "source": [
        "**Install Sastrawi untuk Filtering**"
      ],
      "metadata": {
        "id": "ZXHzcoq9z_kK"
      }
    },
    {
      "cell_type": "code",
      "source": [
        "pip install sastrawi"
      ],
      "metadata": {
        "id": "lLPG0Vqoz-Rm"
      },
      "execution_count": null,
      "outputs": []
    },
    {
      "cell_type": "markdown",
      "source": [
        "Filtering (Stopword Removal) dengan Sastrawi"
      ],
      "metadata": {
        "id": "UtycbkVn1Fug"
      }
    },
    {
      "cell_type": "code",
      "source": [
        "# Memunculkan daftar stopword yang tersedia dalam library Sastrawi\n",
        "from Sastrawi.StopWordRemover.StopWordRemoverFactory import StopWordRemoverFactory\n",
        "factory = StopWordRemoverFactory()\n",
        "stopwords = factory.get_stop_words()\n",
        "print(stopwords)"
      ],
      "metadata": {
        "id": "GSK5pgIU0IGP"
      },
      "execution_count": null,
      "outputs": []
    },
    {
      "cell_type": "code",
      "source": [
        "# import StopWordRemoverFactory class dari Library Sastrawi\n",
        "from Sastrawi.StopWordRemover.StopWordRemoverFactory import StopWordRemoverFactory\n",
        "factory = StopWordRemoverFactory()\n",
        "stopword = factory.create_stop_word_remover()\n",
        "\n",
        "text = \"5.0 Masakannya enak, lumayan worth itu buat harga yang cukup menengah ke atas. Pelayanannya bagus, cuma kalau siang panas sekaliii. Naik bebek 25rb, bisa mancing juga tapi ikannya harus dilepas lagi, banyak gazebo, cocok untuk makan bersama keluarga. Menunya banyak, ada nasi merah juga. Sebelahan dengan Resort nya. Cuma yang agak ganggu itu lalatnya gaes, kalo makanan kita datang lalatnya langsung menyerbu, ada lilin tapi kurang berpengaruh. Tapi ga tau kalo yang dibagian meja meja ya banyak lalatnya enggak. Ada kamar mandi, mushola, playground kecil. Udang bakar madu 85k, Iga bakar 38k, menu lain ada Kepiting, bakmi, nasi goreng, capcay, dll.. Sesekali bolehlah kesini, selamat mencoba!\"\n",
        "stop = stopword.remove(text)\n",
        "print(stop)"
      ],
      "metadata": {
        "colab": {
          "base_uri": "https://localhost:8080/"
        },
        "id": "hqy2rWaw0TAx",
        "outputId": "2846d16c-ae8a-418d-a6d0-82c417bda697"
      },
      "execution_count": null,
      "outputs": [
        {
          "output_type": "stream",
          "name": "stdout",
          "text": [
            "5.0 Masakannya enak, lumayan worth buat harga cukup menengah atas. Pelayanannya bagus, cuma kalau siang panas sekaliii. Naik bebek 25rb, mancing ikannya dilepas lagi, banyak gazebo, cocok makan bersama keluarga. Menunya banyak, nasi merah juga. Sebelahan Resort nya. Cuma agak ganggu lalatnya gaes, kalo makanan datang lalatnya langsung menyerbu, lilin tapi kurang berpengaruh. Tapi ga tau kalo dibagian meja meja banyak lalatnya enggak. Ada kamar mandi, mushola, playground kecil. Udang bakar madu 85k, Iga bakar 38k, menu ada Kepiting, bakmi, nasi goreng, capcay, dll.. Sesekali bolehlah kesini, selamat mencoba!\n"
          ]
        }
      ]
    },
    {
      "cell_type": "markdown",
      "source": [
        "Stemming (Penghilangan Imbuhan) dengan Sastrawi"
      ],
      "metadata": {
        "id": "fQgWj-NU04gR"
      }
    },
    {
      "cell_type": "code",
      "source": [
        "# import StemmerFactory class\n",
        "from Sastrawi.Stemmer.StemmerFactory import StemmerFactory \n",
        "factory = StemmerFactory()\n",
        "stemmer = factory.create_stemmer()\n",
        "text = '5.0 Masakannya enak, lumayan worth itu buat harga yang cukup menengah ke atas. Pelayanannya bagus, cuma kalau siang panas sekaliii. Naik bebek 25rb, bisa mancing juga tapi ikannya harus dilepas lagi, banyak gazebo, cocok untuk makan bersama keluarga. Menunya banyak, ada nasi merah juga. Sebelahan dengan Resort nya. Cuma yang agak ganggu itu lalatnya gaes, kalo makanan kita datang lalatnya langsung menyerbu, ada lilin tapi kurang berpengaruh. Tapi ga tau kalo yang dibagian meja meja ya banyak lalatnya enggak. Ada kamar mandi, mushola, playground kecil. Udang bakar madu 85k, Iga bakar 38k, menu lain ada Kepiting, bakmi, nasi goreng, capcay, dll.. Sesekali bolehlah kesini, selamat mencoba!'\n",
        "hasil = stemmer.stem(text)\n",
        "print(hasil)"
      ],
      "metadata": {
        "colab": {
          "base_uri": "https://localhost:8080/"
        },
        "id": "K-nvxNxI02gx",
        "outputId": "e0d6f76a-3407-4029-c0b0-52061f4581e5"
      },
      "execution_count": null,
      "outputs": [
        {
          "output_type": "stream",
          "name": "stdout",
          "text": [
            "5 0 masakan enak lumayan worth itu buat harga yang cukup tengah ke atas layan bagus cuma kalau siang panas sekaliii naik bebek 25rb bisa mancing juga tapi ikan harus lepas lagi banyak gazebo cocok untuk makan sama keluarga menu banyak ada nasi merah juga belah dengan resort nya cuma yang agak ganggu itu lalat gaes kalo makan kita datang lalat langsung serbu ada lilin tapi kurang pengaruh tapi ga tau kalo yang bagi meja meja ya banyak lalat enggak ada kamar mandi mushola playground kecil udang bakar madu 85k iga bakar 38k menu lain ada kepiting bakmi nasi goreng capcay dll sekal boleh kesini selamat coba\n"
          ]
        }
      ]
    }
  ]
}